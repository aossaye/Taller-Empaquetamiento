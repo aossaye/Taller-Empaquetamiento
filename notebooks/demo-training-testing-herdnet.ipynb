{
  "cells": [
    {
      "cell_type": "markdown",
      "metadata": {
        "id": "tOMmy2YvTHSy"
      },
      "source": [
        "# DEMO - Training and testing HerdNet on nadir aerial images"
      ]
    },
    {
      "cell_type": "markdown",
      "metadata": {
        "id": "_XTpIbRwT9PO"
      },
      "source": [
        "## Installations"
      ]
    },
    {
      "cell_type": "code",
      "execution_count": null,
      "metadata": {
        "id": "9v5ab5BbSrVl"
      },
      "outputs": [],
      "source": [
        "# Check GPU\n",
        "!nvidia-smi"
      ]
    },
    {
      "cell_type": "code",
      "execution_count": null,
      "metadata": {
        "id": "z9RVoQx5UOkg"
      },
      "outputs": [],
      "source": [
        "# Install the dependencies\n",
        "# !pip install albumentations==1.0.3\n",
        "# !pip install fiftyone==0.14.3\n",
        "# !pip install hydra-core==1.1.0\n",
        "# !pip install opencv-python==4.5.1.48\n",
        "# !pip install pandas==1.2.3\n",
        "# !pip install pillow==8.2.0\n",
        "# !pip install scikit-image==0.18.1\n",
        "# !pip install scikit-learn==1.0.2\n",
        "# !pip install scipy==1.6.2\n",
        "# !pip install wandb==0.10.33"
      ]
    },
    {
      "cell_type": "code",
      "execution_count": 4,
      "metadata": {
        "id": "oJydpjxoUGAC",
        "colab": {
          "base_uri": "https://localhost:8080/"
        },
        "outputId": "9e78be53-62af-411c-af8e-c3e64e5d2c64"
      },
      "outputs": [
        {
          "output_type": "stream",
          "name": "stdout",
          "text": [
            "Cloning into 'HerdNet'...\n",
            "remote: Enumerating objects: 570, done.\u001b[K\n",
            "remote: Counting objects: 100% (193/193), done.\u001b[K\n",
            "remote: Compressing objects: 100% (61/61), done.\u001b[K\n",
            "remote: Total 570 (delta 149), reused 132 (delta 132), pack-reused 377 (from 2)\u001b[K\n",
            "Receiving objects: 100% (570/570), 205.52 KiB | 2.74 MiB/s, done.\n",
            "Resolving deltas: 100% (370/370), done.\n",
            "running install\n",
            "/usr/local/lib/python3.11/dist-packages/setuptools/_distutils/cmd.py:66: SetuptoolsDeprecationWarning: setup.py install is deprecated.\n",
            "!!\n",
            "\n",
            "        ********************************************************************************\n",
            "        Please avoid running ``setup.py`` directly.\n",
            "        Instead, use pypa/build, pypa/installer or other\n",
            "        standards-based tools.\n",
            "\n",
            "        See https://blog.ganssle.io/articles/2021/10/setup-py-deprecated.html for details.\n",
            "        ********************************************************************************\n",
            "\n",
            "!!\n",
            "  self.initialize_options()\n",
            "/usr/local/lib/python3.11/dist-packages/setuptools/_distutils/cmd.py:66: EasyInstallDeprecationWarning: easy_install command is deprecated.\n",
            "!!\n",
            "\n",
            "        ********************************************************************************\n",
            "        Please avoid running ``setup.py`` and ``easy_install``.\n",
            "        Instead, use pypa/build, pypa/installer or other\n",
            "        standards-based tools.\n",
            "\n",
            "        See https://github.com/pypa/setuptools/issues/917 for details.\n",
            "        ********************************************************************************\n",
            "\n",
            "!!\n",
            "  self.initialize_options()\n",
            "running bdist_egg\n",
            "running egg_info\n",
            "creating animaloc.egg-info\n",
            "writing animaloc.egg-info/PKG-INFO\n",
            "writing dependency_links to animaloc.egg-info/dependency_links.txt\n",
            "writing top-level names to animaloc.egg-info/top_level.txt\n",
            "writing manifest file 'animaloc.egg-info/SOURCES.txt'\n",
            "reading manifest file 'animaloc.egg-info/SOURCES.txt'\n",
            "writing manifest file 'animaloc.egg-info/SOURCES.txt'\n",
            "installing library code to build/bdist.linux-x86_64/egg\n",
            "running install_lib\n",
            "running build_py\n",
            "creating build/lib/animaloc\n",
            "copying animaloc/__init__.py -> build/lib/animaloc\n",
            "creating build/lib/animaloc/vizual\n",
            "copying animaloc/vizual/objects.py -> build/lib/animaloc/vizual\n",
            "copying animaloc/vizual/plots.py -> build/lib/animaloc/vizual\n",
            "copying animaloc/vizual/image.py -> build/lib/animaloc/vizual\n",
            "copying animaloc/vizual/__init__.py -> build/lib/animaloc/vizual\n",
            "creating build/lib/animaloc/utils\n",
            "copying animaloc/utils/registry.py -> build/lib/animaloc/utils\n",
            "copying animaloc/utils/timer.py -> build/lib/animaloc/utils\n",
            "copying animaloc/utils/logger.py -> build/lib/animaloc/utils\n",
            "copying animaloc/utils/seed.py -> build/lib/animaloc/utils\n",
            "copying animaloc/utils/useful_funcs.py -> build/lib/animaloc/utils\n",
            "copying animaloc/utils/__init__.py -> build/lib/animaloc/utils\n",
            "copying animaloc/utils/torchvision_utils.py -> build/lib/animaloc/utils\n",
            "creating build/lib/animaloc/datasets\n",
            "copying animaloc/datasets/csv.py -> build/lib/animaloc/datasets\n",
            "copying animaloc/datasets/register.py -> build/lib/animaloc/datasets\n",
            "copying animaloc/datasets/folder.py -> build/lib/animaloc/datasets\n",
            "copying animaloc/datasets/patched.py -> build/lib/animaloc/datasets\n",
            "copying animaloc/datasets/__init__.py -> build/lib/animaloc/datasets\n",
            "creating build/lib/animaloc/train\n",
            "copying animaloc/train/adaloss.py -> build/lib/animaloc/train\n",
            "copying animaloc/train/trainers.py -> build/lib/animaloc/train\n",
            "copying animaloc/train/__init__.py -> build/lib/animaloc/train\n",
            "creating build/lib/animaloc/eval\n",
            "copying animaloc/eval/metrics.py -> build/lib/animaloc/eval\n",
            "copying animaloc/eval/evaluators.py -> build/lib/animaloc/eval\n",
            "copying animaloc/eval/utils.py -> build/lib/animaloc/eval\n",
            "copying animaloc/eval/stitchers.py -> build/lib/animaloc/eval\n",
            "copying animaloc/eval/lmds.py -> build/lib/animaloc/eval\n",
            "copying animaloc/eval/__init__.py -> build/lib/animaloc/eval\n",
            "creating build/lib/animaloc/data\n",
            "copying animaloc/data/processors.py -> build/lib/animaloc/data\n",
            "copying animaloc/data/transforms.py -> build/lib/animaloc/data\n",
            "copying animaloc/data/samplers.py -> build/lib/animaloc/data\n",
            "copying animaloc/data/utils.py -> build/lib/animaloc/data\n",
            "copying animaloc/data/batch_utils.py -> build/lib/animaloc/data\n",
            "copying animaloc/data/annotations.py -> build/lib/animaloc/data\n",
            "copying animaloc/data/__init__.py -> build/lib/animaloc/data\n",
            "copying animaloc/data/patches.py -> build/lib/animaloc/data\n",
            "copying animaloc/data/types.py -> build/lib/animaloc/data\n",
            "creating build/lib/animaloc/models\n",
            "copying animaloc/models/register.py -> build/lib/animaloc/models\n",
            "copying animaloc/models/utils.py -> build/lib/animaloc/models\n",
            "copying animaloc/models/faster_rcnn.py -> build/lib/animaloc/models\n",
            "copying animaloc/models/dla.py -> build/lib/animaloc/models\n",
            "copying animaloc/models/__init__.py -> build/lib/animaloc/models\n",
            "copying animaloc/models/ss_dla.py -> build/lib/animaloc/models\n",
            "copying animaloc/models/herdnet.py -> build/lib/animaloc/models\n",
            "creating build/lib/animaloc/train/losses\n",
            "copying animaloc/train/losses/focal.py -> build/lib/animaloc/train/losses\n",
            "copying animaloc/train/losses/register.py -> build/lib/animaloc/train/losses\n",
            "copying animaloc/train/losses/__init__.py -> build/lib/animaloc/train/losses\n",
            "copying animaloc/train/losses/ssim.py -> build/lib/animaloc/train/losses\n",
            "creating build/bdist.linux-x86_64/egg\n",
            "creating build/bdist.linux-x86_64/egg/animaloc\n",
            "creating build/bdist.linux-x86_64/egg/animaloc/vizual\n",
            "copying build/lib/animaloc/vizual/objects.py -> build/bdist.linux-x86_64/egg/animaloc/vizual\n",
            "copying build/lib/animaloc/vizual/plots.py -> build/bdist.linux-x86_64/egg/animaloc/vizual\n",
            "copying build/lib/animaloc/vizual/image.py -> build/bdist.linux-x86_64/egg/animaloc/vizual\n",
            "copying build/lib/animaloc/vizual/__init__.py -> build/bdist.linux-x86_64/egg/animaloc/vizual\n",
            "creating build/bdist.linux-x86_64/egg/animaloc/utils\n",
            "copying build/lib/animaloc/utils/registry.py -> build/bdist.linux-x86_64/egg/animaloc/utils\n",
            "copying build/lib/animaloc/utils/timer.py -> build/bdist.linux-x86_64/egg/animaloc/utils\n",
            "copying build/lib/animaloc/utils/logger.py -> build/bdist.linux-x86_64/egg/animaloc/utils\n",
            "copying build/lib/animaloc/utils/seed.py -> build/bdist.linux-x86_64/egg/animaloc/utils\n",
            "copying build/lib/animaloc/utils/useful_funcs.py -> build/bdist.linux-x86_64/egg/animaloc/utils\n",
            "copying build/lib/animaloc/utils/__init__.py -> build/bdist.linux-x86_64/egg/animaloc/utils\n",
            "copying build/lib/animaloc/utils/torchvision_utils.py -> build/bdist.linux-x86_64/egg/animaloc/utils\n",
            "creating build/bdist.linux-x86_64/egg/animaloc/datasets\n",
            "copying build/lib/animaloc/datasets/csv.py -> build/bdist.linux-x86_64/egg/animaloc/datasets\n",
            "copying build/lib/animaloc/datasets/register.py -> build/bdist.linux-x86_64/egg/animaloc/datasets\n",
            "copying build/lib/animaloc/datasets/folder.py -> build/bdist.linux-x86_64/egg/animaloc/datasets\n",
            "copying build/lib/animaloc/datasets/patched.py -> build/bdist.linux-x86_64/egg/animaloc/datasets\n",
            "copying build/lib/animaloc/datasets/__init__.py -> build/bdist.linux-x86_64/egg/animaloc/datasets\n",
            "creating build/bdist.linux-x86_64/egg/animaloc/train\n",
            "copying build/lib/animaloc/train/adaloss.py -> build/bdist.linux-x86_64/egg/animaloc/train\n",
            "copying build/lib/animaloc/train/trainers.py -> build/bdist.linux-x86_64/egg/animaloc/train\n",
            "copying build/lib/animaloc/train/__init__.py -> build/bdist.linux-x86_64/egg/animaloc/train\n",
            "creating build/bdist.linux-x86_64/egg/animaloc/train/losses\n",
            "copying build/lib/animaloc/train/losses/focal.py -> build/bdist.linux-x86_64/egg/animaloc/train/losses\n",
            "copying build/lib/animaloc/train/losses/register.py -> build/bdist.linux-x86_64/egg/animaloc/train/losses\n",
            "copying build/lib/animaloc/train/losses/__init__.py -> build/bdist.linux-x86_64/egg/animaloc/train/losses\n",
            "copying build/lib/animaloc/train/losses/ssim.py -> build/bdist.linux-x86_64/egg/animaloc/train/losses\n",
            "creating build/bdist.linux-x86_64/egg/animaloc/eval\n",
            "copying build/lib/animaloc/eval/metrics.py -> build/bdist.linux-x86_64/egg/animaloc/eval\n",
            "copying build/lib/animaloc/eval/evaluators.py -> build/bdist.linux-x86_64/egg/animaloc/eval\n",
            "copying build/lib/animaloc/eval/utils.py -> build/bdist.linux-x86_64/egg/animaloc/eval\n",
            "copying build/lib/animaloc/eval/stitchers.py -> build/bdist.linux-x86_64/egg/animaloc/eval\n",
            "copying build/lib/animaloc/eval/lmds.py -> build/bdist.linux-x86_64/egg/animaloc/eval\n",
            "copying build/lib/animaloc/eval/__init__.py -> build/bdist.linux-x86_64/egg/animaloc/eval\n",
            "creating build/bdist.linux-x86_64/egg/animaloc/data\n",
            "copying build/lib/animaloc/data/processors.py -> build/bdist.linux-x86_64/egg/animaloc/data\n",
            "copying build/lib/animaloc/data/transforms.py -> build/bdist.linux-x86_64/egg/animaloc/data\n",
            "copying build/lib/animaloc/data/samplers.py -> build/bdist.linux-x86_64/egg/animaloc/data\n",
            "copying build/lib/animaloc/data/utils.py -> build/bdist.linux-x86_64/egg/animaloc/data\n",
            "copying build/lib/animaloc/data/batch_utils.py -> build/bdist.linux-x86_64/egg/animaloc/data\n",
            "copying build/lib/animaloc/data/annotations.py -> build/bdist.linux-x86_64/egg/animaloc/data\n",
            "copying build/lib/animaloc/data/__init__.py -> build/bdist.linux-x86_64/egg/animaloc/data\n",
            "copying build/lib/animaloc/data/patches.py -> build/bdist.linux-x86_64/egg/animaloc/data\n",
            "copying build/lib/animaloc/data/types.py -> build/bdist.linux-x86_64/egg/animaloc/data\n",
            "creating build/bdist.linux-x86_64/egg/animaloc/models\n",
            "copying build/lib/animaloc/models/register.py -> build/bdist.linux-x86_64/egg/animaloc/models\n",
            "copying build/lib/animaloc/models/utils.py -> build/bdist.linux-x86_64/egg/animaloc/models\n",
            "copying build/lib/animaloc/models/faster_rcnn.py -> build/bdist.linux-x86_64/egg/animaloc/models\n",
            "copying build/lib/animaloc/models/dla.py -> build/bdist.linux-x86_64/egg/animaloc/models\n",
            "copying build/lib/animaloc/models/__init__.py -> build/bdist.linux-x86_64/egg/animaloc/models\n",
            "copying build/lib/animaloc/models/ss_dla.py -> build/bdist.linux-x86_64/egg/animaloc/models\n",
            "copying build/lib/animaloc/models/herdnet.py -> build/bdist.linux-x86_64/egg/animaloc/models\n",
            "copying build/lib/animaloc/__init__.py -> build/bdist.linux-x86_64/egg/animaloc\n",
            "byte-compiling build/bdist.linux-x86_64/egg/animaloc/vizual/objects.py to objects.cpython-311.pyc\n",
            "byte-compiling build/bdist.linux-x86_64/egg/animaloc/vizual/plots.py to plots.cpython-311.pyc\n",
            "byte-compiling build/bdist.linux-x86_64/egg/animaloc/vizual/image.py to image.cpython-311.pyc\n",
            "byte-compiling build/bdist.linux-x86_64/egg/animaloc/vizual/__init__.py to __init__.cpython-311.pyc\n",
            "byte-compiling build/bdist.linux-x86_64/egg/animaloc/utils/registry.py to registry.cpython-311.pyc\n",
            "byte-compiling build/bdist.linux-x86_64/egg/animaloc/utils/timer.py to timer.cpython-311.pyc\n",
            "byte-compiling build/bdist.linux-x86_64/egg/animaloc/utils/logger.py to logger.cpython-311.pyc\n",
            "byte-compiling build/bdist.linux-x86_64/egg/animaloc/utils/seed.py to seed.cpython-311.pyc\n",
            "byte-compiling build/bdist.linux-x86_64/egg/animaloc/utils/useful_funcs.py to useful_funcs.cpython-311.pyc\n",
            "byte-compiling build/bdist.linux-x86_64/egg/animaloc/utils/__init__.py to __init__.cpython-311.pyc\n",
            "byte-compiling build/bdist.linux-x86_64/egg/animaloc/utils/torchvision_utils.py to torchvision_utils.cpython-311.pyc\n",
            "byte-compiling build/bdist.linux-x86_64/egg/animaloc/datasets/csv.py to csv.cpython-311.pyc\n",
            "byte-compiling build/bdist.linux-x86_64/egg/animaloc/datasets/register.py to register.cpython-311.pyc\n",
            "byte-compiling build/bdist.linux-x86_64/egg/animaloc/datasets/folder.py to folder.cpython-311.pyc\n",
            "byte-compiling build/bdist.linux-x86_64/egg/animaloc/datasets/patched.py to patched.cpython-311.pyc\n",
            "byte-compiling build/bdist.linux-x86_64/egg/animaloc/datasets/__init__.py to __init__.cpython-311.pyc\n",
            "byte-compiling build/bdist.linux-x86_64/egg/animaloc/train/adaloss.py to adaloss.cpython-311.pyc\n",
            "byte-compiling build/bdist.linux-x86_64/egg/animaloc/train/trainers.py to trainers.cpython-311.pyc\n",
            "byte-compiling build/bdist.linux-x86_64/egg/animaloc/train/__init__.py to __init__.cpython-311.pyc\n",
            "byte-compiling build/bdist.linux-x86_64/egg/animaloc/train/losses/focal.py to focal.cpython-311.pyc\n",
            "byte-compiling build/bdist.linux-x86_64/egg/animaloc/train/losses/register.py to register.cpython-311.pyc\n",
            "byte-compiling build/bdist.linux-x86_64/egg/animaloc/train/losses/__init__.py to __init__.cpython-311.pyc\n",
            "byte-compiling build/bdist.linux-x86_64/egg/animaloc/train/losses/ssim.py to ssim.cpython-311.pyc\n",
            "byte-compiling build/bdist.linux-x86_64/egg/animaloc/eval/metrics.py to metrics.cpython-311.pyc\n",
            "byte-compiling build/bdist.linux-x86_64/egg/animaloc/eval/evaluators.py to evaluators.cpython-311.pyc\n",
            "byte-compiling build/bdist.linux-x86_64/egg/animaloc/eval/utils.py to utils.cpython-311.pyc\n",
            "byte-compiling build/bdist.linux-x86_64/egg/animaloc/eval/stitchers.py to stitchers.cpython-311.pyc\n",
            "byte-compiling build/bdist.linux-x86_64/egg/animaloc/eval/lmds.py to lmds.cpython-311.pyc\n",
            "byte-compiling build/bdist.linux-x86_64/egg/animaloc/eval/__init__.py to __init__.cpython-311.pyc\n",
            "byte-compiling build/bdist.linux-x86_64/egg/animaloc/data/processors.py to processors.cpython-311.pyc\n",
            "byte-compiling build/bdist.linux-x86_64/egg/animaloc/data/transforms.py to transforms.cpython-311.pyc\n",
            "byte-compiling build/bdist.linux-x86_64/egg/animaloc/data/samplers.py to samplers.cpython-311.pyc\n",
            "byte-compiling build/bdist.linux-x86_64/egg/animaloc/data/utils.py to utils.cpython-311.pyc\n",
            "byte-compiling build/bdist.linux-x86_64/egg/animaloc/data/batch_utils.py to batch_utils.cpython-311.pyc\n",
            "byte-compiling build/bdist.linux-x86_64/egg/animaloc/data/annotations.py to annotations.cpython-311.pyc\n",
            "byte-compiling build/bdist.linux-x86_64/egg/animaloc/data/__init__.py to __init__.cpython-311.pyc\n",
            "byte-compiling build/bdist.linux-x86_64/egg/animaloc/data/patches.py to patches.cpython-311.pyc\n",
            "byte-compiling build/bdist.linux-x86_64/egg/animaloc/data/types.py to types.cpython-311.pyc\n",
            "byte-compiling build/bdist.linux-x86_64/egg/animaloc/models/register.py to register.cpython-311.pyc\n",
            "byte-compiling build/bdist.linux-x86_64/egg/animaloc/models/utils.py to utils.cpython-311.pyc\n",
            "byte-compiling build/bdist.linux-x86_64/egg/animaloc/models/faster_rcnn.py to faster_rcnn.cpython-311.pyc\n",
            "byte-compiling build/bdist.linux-x86_64/egg/animaloc/models/dla.py to dla.cpython-311.pyc\n",
            "byte-compiling build/bdist.linux-x86_64/egg/animaloc/models/__init__.py to __init__.cpython-311.pyc\n",
            "byte-compiling build/bdist.linux-x86_64/egg/animaloc/models/ss_dla.py to ss_dla.cpython-311.pyc\n",
            "byte-compiling build/bdist.linux-x86_64/egg/animaloc/models/herdnet.py to herdnet.cpython-311.pyc\n",
            "byte-compiling build/bdist.linux-x86_64/egg/animaloc/__init__.py to __init__.cpython-311.pyc\n",
            "creating build/bdist.linux-x86_64/egg/EGG-INFO\n",
            "copying animaloc.egg-info/PKG-INFO -> build/bdist.linux-x86_64/egg/EGG-INFO\n",
            "copying animaloc.egg-info/SOURCES.txt -> build/bdist.linux-x86_64/egg/EGG-INFO\n",
            "copying animaloc.egg-info/dependency_links.txt -> build/bdist.linux-x86_64/egg/EGG-INFO\n",
            "copying animaloc.egg-info/top_level.txt -> build/bdist.linux-x86_64/egg/EGG-INFO\n",
            "zip_safe flag not set; analyzing archive contents...\n",
            "creating dist\n",
            "creating 'dist/animaloc-0.2.1-py3.11.egg' and adding 'build/bdist.linux-x86_64/egg' to it\n",
            "removing 'build/bdist.linux-x86_64/egg' (and everything under it)\n",
            "Processing animaloc-0.2.1-py3.11.egg\n",
            "Copying animaloc-0.2.1-py3.11.egg to /usr/local/lib/python3.11/dist-packages\n",
            "Adding animaloc 0.2.1 to easy-install.pth file\n",
            "\n",
            "Installed /usr/local/lib/python3.11/dist-packages/animaloc-0.2.1-py3.11.egg\n",
            "Processing dependencies for animaloc==0.2.1\n",
            "Finished processing dependencies for animaloc==0.2.1\n"
          ]
        }
      ],
      "source": [
        "# Download and install the code\n",
        "import sys\n",
        "\n",
        "!git clone https://github.com/Alexandre-Delplanque/HerdNet\n",
        "!cd '/content/HerdNet' && python setup.py install\n",
        "\n",
        "sys.path.append('/content/HerdNet')"
      ]
    },
    {
      "cell_type": "markdown",
      "metadata": {
        "id": "cuxaC9qGVk5S"
      },
      "source": [
        "## Create datasets"
      ]
    },
    {
      "cell_type": "code",
      "execution_count": 2,
      "metadata": {
        "id": "0yt06VTPVtsq",
        "colab": {
          "base_uri": "https://localhost:8080/"
        },
        "outputId": "00928ffd-01ea-402a-e600-920585f94655"
      },
      "outputs": [
        {
          "output_type": "stream",
          "name": "stdout",
          "text": [
            "Downloading...\n",
            "From (original): https://drive.google.com/uc?id=1KfGBYaXo9LVOiz9qO1pxRH3ZC5bsywCW\n",
            "From (redirected): https://drive.google.com/uc?id=1KfGBYaXo9LVOiz9qO1pxRH3ZC5bsywCW&confirm=t&uuid=13b3eb82-62b1-4ccc-8333-dd7ff7f42bbe\n",
            "To: /content/data.zip\n",
            "100% 11.6G/11.6G [01:29<00:00, 128MB/s]\n"
          ]
        }
      ],
      "source": [
        "# Download some of the data of Delplanque et al. (2021) as an example\n",
        "!gdown 1KfGBYaXo9LVOiz9qO1pxRH3ZC5bsywCW -O /content/data.zip\n",
        "!unzip -oq /content/data.zip -d /content\n"
      ]
    },
    {
      "cell_type": "code",
      "execution_count": 5,
      "metadata": {
        "id": "y1n_cQLFYBsJ",
        "colab": {
          "base_uri": "https://localhost:8080/"
        },
        "outputId": "d88e5abc-e816-47ec-9fc4-834af98f8b3f"
      },
      "outputs": [
        {
          "output_type": "stream",
          "name": "stderr",
          "text": [
            "/usr/local/lib/python3.11/dist-packages/albumentations/__init__.py:28: UserWarning: A new version of Albumentations is available: '2.0.7' (you have '2.0.6'). Upgrade using: pip install -U albumentations. To disable automatic update checks, set the environment variable NO_ALBUMENTATIONS_UPDATE to 1.\n",
            "  check_for_updates()\n"
          ]
        }
      ],
      "source": [
        "# Set the seed\n",
        "from animaloc.utils.seed import set_seed\n",
        "\n",
        "set_seed(9292)"
      ]
    },
    {
      "cell_type": "code",
      "execution_count": 6,
      "metadata": {
        "id": "9tGqtLNG21Jf",
        "colab": {
          "base_uri": "https://localhost:8080/"
        },
        "outputId": "4cb066e4-3fc6-4bc8-97b4-9ce4ee4e44d5"
      },
      "outputs": [
        {
          "output_type": "stream",
          "name": "stdout",
          "text": [
            "/usr/local/lib/python3.11/dist-packages/albumentations/__init__.py:28: UserWarning: A new version of Albumentations is available: '2.0.7' (you have '2.0.6'). Upgrade using: pip install -U albumentations. To disable automatic update checks, set the environment variable NO_ALBUMENTATIONS_UPDATE to 1.\n",
            "  check_for_updates()\n",
            "Creating the buffer: 100% 111/111 [00:44<00:00,  2.52it/s]\n",
            "Exporting patches: 100% 111/111 [02:08<00:00,  1.16s/it]\n"
          ]
        }
      ],
      "source": [
        "# Create validation patches using the patcher tool (for demo)\n",
        "from animaloc.utils.useful_funcs import mkdir\n",
        "\n",
        "mkdir('/content/data/val_patches')\n",
        "!python /content/HerdNet/tools/patcher.py /content/data/val 512 512 0 /content/data/val_patches -csv /content/data/val.csv -min 0.0 -all False"
      ]
    },
    {
      "cell_type": "code",
      "execution_count": 20,
      "metadata": {
        "id": "Bwp4XPR8YNMR"
      },
      "outputs": [],
      "source": [
        "# Training, validation and test datasets\n",
        "import albumentations as A\n",
        "\n",
        "from animaloc.datasets import CSVDataset\n",
        "from animaloc.data.transforms import MultiTransformsWrapper, DownSample, PointsToMask, FIDT\n",
        "\n",
        "patch_size = 512\n",
        "num_classes = 7\n",
        "down_ratio = 2\n",
        "\n",
        "# train_dataset = CSVDataset(\n",
        "#     csv_file = '/content/data/train_patches.csv',\n",
        "#     root_dir = '/content/data/train_patches',\n",
        "#     albu_transforms = [\n",
        "#         A.VerticalFlip(p=0.5),\n",
        "#         A.HorizontalFlip(p=0.5),\n",
        "#         A.RandomRotate90(p=0.5),\n",
        "#         A.RandomBrightnessContrast(brightness_limit=0.2, contrast_limit=0.2, p=0.2),\n",
        "#         A.Blur(blur_limit=15, p=0.2),\n",
        "#         A.Normalize(p=1.0)\n",
        "#         ],\n",
        "#     end_transforms = [MultiTransformsWrapper([\n",
        "#         FIDT(num_classes=num_classes, down_ratio=down_ratio),\n",
        "#         PointsToMask(radius=2, num_classes=num_classes, squeeze=True, down_ratio=int(patch_size//16))\n",
        "#         ])]\n",
        "#     )\n",
        "\n",
        "val_dataset = CSVDataset(\n",
        "    csv_file = '/content/data/val_patches/gt.csv',\n",
        "    root_dir = '/content/data/val_patches',\n",
        "    albu_transforms = [A.Normalize(p=1.0)],\n",
        "    end_transforms = [DownSample(down_ratio=down_ratio, anno_type='point')]\n",
        "    )\n",
        "\n",
        "test_dataset = CSVDataset(\n",
        "    csv_file = '/content/data/test.csv',\n",
        "    root_dir = '/content/data/test',\n",
        "    albu_transforms = [A.Normalize(p=1.0)],\n",
        "    end_transforms = [DownSample(down_ratio=down_ratio, anno_type='point')]\n",
        "    )"
      ]
    },
    {
      "cell_type": "code",
      "execution_count": 21,
      "metadata": {
        "id": "lR1W5NVFYhiZ"
      },
      "outputs": [],
      "source": [
        "# Dataloaders\n",
        "from torch.utils.data import DataLoader\n",
        "\n",
        "# train_dataloader = DataLoader(dataset = train_dataset, batch_size = 4, shuffle = True)\n",
        "\n",
        "val_dataloader = DataLoader(dataset = val_dataset, batch_size = 1, shuffle = False)\n",
        "\n",
        "test_dataloader = DataLoader(dataset = test_dataset, batch_size = 1, shuffle = False)"
      ]
    },
    {
      "cell_type": "markdown",
      "metadata": {
        "id": "emWQUMq2Vwpj"
      },
      "source": [
        "## Define HerdNet for training"
      ]
    },
    {
      "cell_type": "code",
      "execution_count": 11,
      "metadata": {
        "id": "JIBKygFlV0V1"
      },
      "outputs": [],
      "source": [
        "from animaloc.models import HerdNet\n",
        "from torch import Tensor\n",
        "from animaloc.models import LossWrapper\n",
        "from animaloc.train.losses import FocalLoss\n",
        "from torch.nn import CrossEntropyLoss\n",
        "\n",
        "herdnet = HerdNet(num_classes=num_classes, down_ratio=down_ratio, pretrained=False).cuda()\n",
        "\n",
        "weight = Tensor([0.1, 1.0, 2.0, 1.0, 6.0, 12.0, 1.0]).cuda()\n",
        "\n",
        "losses = [\n",
        "    {'loss': FocalLoss(reduction='mean'), 'idx': 0, 'idy': 0, 'lambda': 1.0, 'name': 'focal_loss'},\n",
        "    {'loss': CrossEntropyLoss(reduction='mean', weight=weight), 'idx': 1, 'idy': 1, 'lambda': 1.0, 'name': 'ce_loss'}\n",
        "    ]\n",
        "\n",
        "herdnet = LossWrapper(herdnet, losses=losses)"
      ]
    },
    {
      "cell_type": "markdown",
      "metadata": {
        "id": "Nm5u6yg4V78C"
      },
      "source": [
        "## Create the Trainer"
      ]
    },
    {
      "cell_type": "code",
      "execution_count": 22,
      "metadata": {
        "id": "MSBimwtzWDZp"
      },
      "outputs": [],
      "source": [
        "from torch.optim import Adam\n",
        "from animaloc.train import Trainer\n",
        "from animaloc.eval import PointsMetrics, HerdNetStitcher, HerdNetEvaluator\n",
        "from animaloc.utils.useful_funcs import mkdir\n",
        "\n",
        "work_dir = '/content/output'\n",
        "mkdir(work_dir)\n",
        "\n",
        "lr = 1e-4\n",
        "weight_decay = 1e-3\n",
        "epochs = 100\n",
        "\n",
        "optimizer = Adam(params=herdnet.parameters(), lr=lr, weight_decay=weight_decay)\n",
        "\n",
        "metrics = PointsMetrics(radius=20, num_classes=num_classes)\n",
        "\n",
        "stitcher = HerdNetStitcher(\n",
        "    model=herdnet,\n",
        "    size=(patch_size,patch_size),\n",
        "    overlap=160,\n",
        "    down_ratio=down_ratio,\n",
        "    reduction='mean'\n",
        "    )\n",
        "\n",
        "evaluator = HerdNetEvaluator(\n",
        "    model=herdnet,\n",
        "    dataloader=val_dataloader,\n",
        "    metrics=metrics,\n",
        "    stitcher=stitcher,\n",
        "    work_dir=work_dir,\n",
        "    header='validation'\n",
        "    )\n",
        "\n",
        "# trainer = Trainer(\n",
        "#     model=herdnet,\n",
        "#     train_dataloader=train_dataloader,\n",
        "#     optimizer=optimizer,\n",
        "#     num_epochs=epochs,\n",
        "#     evaluator=evaluator,\n",
        "#     work_dir=work_dir\n",
        "#     )"
      ]
    },
    {
      "cell_type": "markdown",
      "metadata": {
        "id": "axsTtq4WV0ot"
      },
      "source": [
        "## Start training"
      ]
    },
    {
      "cell_type": "code",
      "execution_count": null,
      "metadata": {
        "id": "malFT6r5V4rC"
      },
      "outputs": [],
      "source": [
        "trainer.start(warmup_iters=100, checkpoints='best', select='max', validate_on='f1_score')"
      ]
    },
    {
      "cell_type": "markdown",
      "metadata": {
        "id": "_e0CQd5Bxx5T"
      },
      "source": [
        "## Test the model"
      ]
    },
    {
      "cell_type": "code",
      "execution_count": 12,
      "metadata": {
        "id": "D5133GoRz8r_",
        "colab": {
          "base_uri": "https://localhost:8080/"
        },
        "outputId": "c0cd22b4-d763-44db-ae89-247f1f358e90"
      },
      "outputs": [
        {
          "output_type": "stream",
          "name": "stderr",
          "text": [
            "Downloading...\n",
            "From (original): https://drive.google.com/uc?export=download&id=1-WUnBC4BJMVkNvRqalF_HzA1_pRkQTI_\n",
            "From (redirected): https://drive.google.com/uc?export=download&id=1-WUnBC4BJMVkNvRqalF_HzA1_pRkQTI_&confirm=t&uuid=becfebfa-1bdb-4748-b772-9c2a914e66bc\n",
            "To: /content/20220413_herdnet_model.pth\n",
            "100%|██████████| 220M/220M [00:01<00:00, 152MB/s]\n"
          ]
        }
      ],
      "source": [
        "# Path to your .pth file\n",
        "import gdown\n",
        "\n",
        "pth_path = ''\n",
        "\n",
        "if not pth_path:\n",
        "    gdown.download(\n",
        "        'https://drive.google.com/uc?export=download&id=1-WUnBC4BJMVkNvRqalF_HzA1_pRkQTI_',\n",
        "        '/content/20220413_herdnet_model.pth'\n",
        "        )\n",
        "    pth_path = '/content/20220413_herdnet_model.pth'"
      ]
    },
    {
      "cell_type": "code",
      "execution_count": 15,
      "metadata": {
        "id": "VPHXVYWNzVDj"
      },
      "outputs": [],
      "source": [
        "# Create output folder\n",
        "test_dir = '/content/test_output'\n",
        "mkdir(test_dir)"
      ]
    },
    {
      "cell_type": "code",
      "execution_count": 16,
      "metadata": {
        "id": "DXUsHk7dzl47"
      },
      "outputs": [],
      "source": [
        "# Load trained parameters\n",
        "from animaloc.models import load_model\n",
        "\n",
        "herdnet = load_model(herdnet, pth_path=pth_path)"
      ]
    },
    {
      "cell_type": "code",
      "execution_count": 23,
      "metadata": {
        "id": "lX3Jp883zB-D"
      },
      "outputs": [],
      "source": [
        "# Create an Evaluator\n",
        "test_evaluator = HerdNetEvaluator(\n",
        "    model=herdnet,\n",
        "    dataloader=test_dataloader,\n",
        "    metrics=metrics,\n",
        "    stitcher=stitcher,\n",
        "    work_dir=test_dir,\n",
        "    header='test'\n",
        "    )"
      ]
    },
    {
      "cell_type": "code",
      "execution_count": 24,
      "metadata": {
        "id": "CZt_wNle0488",
        "colab": {
          "base_uri": "https://localhost:8080/"
        },
        "outputId": "973bfe68-9324-446f-9ccf-c9d9a909c1a4"
      },
      "outputs": [
        {
          "output_type": "stream",
          "name": "stderr",
          "text": [
            "/usr/local/lib/python3.11/dist-packages/albumentations/core/composition.py:331: UserWarning: Got processor for keypoints, but no transform to process it.\n",
            "  self._set_keys()\n",
            "INFO:20250516_evaluation:test [  1/258] eta: 0:20:49 n: 1 recall: 1.0 precision: 0.2 f1-score: 0.33 MAE: 4.0 MSE: 16.0 RMSE: 4.0 time: 4.8446 data: 0.6923 max mem: 1471\n"
          ]
        },
        {
          "output_type": "stream",
          "name": "stdout",
          "text": [
            "test [  1/258] eta: 0:20:49 n: 1 recall: 1.0 precision: 0.2 f1-score: 0.33 MAE: 4.0 MSE: 16.0 RMSE: 4.0 time: 4.8446 data: 0.6923 max mem: 1471\n"
          ]
        },
        {
          "output_type": "stream",
          "name": "stderr",
          "text": [
            "/usr/local/lib/python3.11/dist-packages/albumentations/core/composition.py:331: UserWarning: Got processor for keypoints, but no transform to process it.\n",
            "  self._set_keys()\n",
            "/usr/local/lib/python3.11/dist-packages/albumentations/core/composition.py:331: UserWarning: Got processor for keypoints, but no transform to process it.\n",
            "  self._set_keys()\n",
            "/usr/local/lib/python3.11/dist-packages/albumentations/core/composition.py:331: UserWarning: Got processor for keypoints, but no transform to process it.\n",
            "  self._set_keys()\n",
            "/usr/local/lib/python3.11/dist-packages/albumentations/core/composition.py:331: UserWarning: Got processor for keypoints, but no transform to process it.\n",
            "  self._set_keys()\n",
            "/usr/local/lib/python3.11/dist-packages/albumentations/core/composition.py:331: UserWarning: Got processor for keypoints, but no transform to process it.\n",
            "  self._set_keys()\n",
            "/usr/local/lib/python3.11/dist-packages/albumentations/core/composition.py:331: UserWarning: Got processor for keypoints, but no transform to process it.\n",
            "  self._set_keys()\n",
            "/usr/local/lib/python3.11/dist-packages/albumentations/core/composition.py:331: UserWarning: Got processor for keypoints, but no transform to process it.\n",
            "  self._set_keys()\n",
            "/usr/local/lib/python3.11/dist-packages/albumentations/core/composition.py:331: UserWarning: Got processor for keypoints, but no transform to process it.\n",
            "  self._set_keys()\n",
            "/usr/local/lib/python3.11/dist-packages/albumentations/core/composition.py:331: UserWarning: Got processor for keypoints, but no transform to process it.\n",
            "  self._set_keys()\n",
            "/usr/local/lib/python3.11/dist-packages/albumentations/core/composition.py:331: UserWarning: Got processor for keypoints, but no transform to process it.\n",
            "  self._set_keys()\n",
            "INFO:20250516_evaluation:test [ 11/258] eta: 0:14:30 n: 1 recall: 1.0 precision: 1.0 f1-score: 1.0 MAE: 0.0 MSE: 0.0 RMSE: 0.0 time: 3.5096 data: 0.6267 max mem: 1471\n"
          ]
        },
        {
          "output_type": "stream",
          "name": "stdout",
          "text": [
            "test [ 11/258] eta: 0:14:30 n: 1 recall: 1.0 precision: 1.0 f1-score: 1.0 MAE: 0.0 MSE: 0.0 RMSE: 0.0 time: 3.5096 data: 0.6267 max mem: 1471\n"
          ]
        },
        {
          "output_type": "stream",
          "name": "stderr",
          "text": [
            "/usr/local/lib/python3.11/dist-packages/albumentations/core/composition.py:331: UserWarning: Got processor for keypoints, but no transform to process it.\n",
            "  self._set_keys()\n",
            "/usr/local/lib/python3.11/dist-packages/albumentations/core/composition.py:331: UserWarning: Got processor for keypoints, but no transform to process it.\n",
            "  self._set_keys()\n",
            "/usr/local/lib/python3.11/dist-packages/albumentations/core/composition.py:331: UserWarning: Got processor for keypoints, but no transform to process it.\n",
            "  self._set_keys()\n",
            "/usr/local/lib/python3.11/dist-packages/albumentations/core/composition.py:331: UserWarning: Got processor for keypoints, but no transform to process it.\n",
            "  self._set_keys()\n",
            "/usr/local/lib/python3.11/dist-packages/albumentations/core/composition.py:331: UserWarning: Got processor for keypoints, but no transform to process it.\n",
            "  self._set_keys()\n",
            "/usr/local/lib/python3.11/dist-packages/albumentations/core/composition.py:331: UserWarning: Got processor for keypoints, but no transform to process it.\n",
            "  self._set_keys()\n",
            "/usr/local/lib/python3.11/dist-packages/albumentations/core/composition.py:331: UserWarning: Got processor for keypoints, but no transform to process it.\n",
            "  self._set_keys()\n",
            "/usr/local/lib/python3.11/dist-packages/albumentations/core/composition.py:331: UserWarning: Got processor for keypoints, but no transform to process it.\n",
            "  self._set_keys()\n",
            "/usr/local/lib/python3.11/dist-packages/albumentations/core/composition.py:331: UserWarning: Got processor for keypoints, but no transform to process it.\n",
            "  self._set_keys()\n",
            "/usr/local/lib/python3.11/dist-packages/albumentations/core/composition.py:331: UserWarning: Got processor for keypoints, but no transform to process it.\n",
            "  self._set_keys()\n",
            "INFO:20250516_evaluation:test [ 21/258] eta: 0:13:36 n: 1 recall: 1.0 precision: 0.33 f1-score: 0.5 MAE: 2.0 MSE: 4.0 RMSE: 2.0 time: 3.3595 data: 0.6127 max mem: 1471\n"
          ]
        },
        {
          "output_type": "stream",
          "name": "stdout",
          "text": [
            "test [ 21/258] eta: 0:13:36 n: 1 recall: 1.0 precision: 0.33 f1-score: 0.5 MAE: 2.0 MSE: 4.0 RMSE: 2.0 time: 3.3595 data: 0.6127 max mem: 1471\n"
          ]
        },
        {
          "output_type": "stream",
          "name": "stderr",
          "text": [
            "/usr/local/lib/python3.11/dist-packages/albumentations/core/composition.py:331: UserWarning: Got processor for keypoints, but no transform to process it.\n",
            "  self._set_keys()\n",
            "/usr/local/lib/python3.11/dist-packages/albumentations/core/composition.py:331: UserWarning: Got processor for keypoints, but no transform to process it.\n",
            "  self._set_keys()\n",
            "/usr/local/lib/python3.11/dist-packages/albumentations/core/composition.py:331: UserWarning: Got processor for keypoints, but no transform to process it.\n",
            "  self._set_keys()\n",
            "/usr/local/lib/python3.11/dist-packages/albumentations/core/composition.py:331: UserWarning: Got processor for keypoints, but no transform to process it.\n",
            "  self._set_keys()\n",
            "/usr/local/lib/python3.11/dist-packages/albumentations/core/composition.py:331: UserWarning: Got processor for keypoints, but no transform to process it.\n",
            "  self._set_keys()\n",
            "/usr/local/lib/python3.11/dist-packages/albumentations/core/composition.py:331: UserWarning: Got processor for keypoints, but no transform to process it.\n",
            "  self._set_keys()\n",
            "/usr/local/lib/python3.11/dist-packages/albumentations/core/composition.py:331: UserWarning: Got processor for keypoints, but no transform to process it.\n",
            "  self._set_keys()\n",
            "/usr/local/lib/python3.11/dist-packages/albumentations/core/composition.py:331: UserWarning: Got processor for keypoints, but no transform to process it.\n",
            "  self._set_keys()\n",
            "/usr/local/lib/python3.11/dist-packages/albumentations/core/composition.py:331: UserWarning: Got processor for keypoints, but no transform to process it.\n",
            "  self._set_keys()\n",
            "/usr/local/lib/python3.11/dist-packages/albumentations/core/composition.py:331: UserWarning: Got processor for keypoints, but no transform to process it.\n",
            "  self._set_keys()\n",
            "INFO:20250516_evaluation:test [ 31/258] eta: 0:12:55 n: 36 recall: 0.92 precision: 1.0 f1-score: 0.96 MAE: 3.0 MSE: 9.0 RMSE: 3.0 time: 3.3432 data: 0.6060 max mem: 1471\n"
          ]
        },
        {
          "output_type": "stream",
          "name": "stdout",
          "text": [
            "test [ 31/258] eta: 0:12:55 n: 36 recall: 0.92 precision: 1.0 f1-score: 0.96 MAE: 3.0 MSE: 9.0 RMSE: 3.0 time: 3.3432 data: 0.6060 max mem: 1471\n"
          ]
        },
        {
          "output_type": "stream",
          "name": "stderr",
          "text": [
            "/usr/local/lib/python3.11/dist-packages/albumentations/core/composition.py:331: UserWarning: Got processor for keypoints, but no transform to process it.\n",
            "  self._set_keys()\n",
            "/usr/local/lib/python3.11/dist-packages/albumentations/core/composition.py:331: UserWarning: Got processor for keypoints, but no transform to process it.\n",
            "  self._set_keys()\n",
            "/usr/local/lib/python3.11/dist-packages/albumentations/core/composition.py:331: UserWarning: Got processor for keypoints, but no transform to process it.\n",
            "  self._set_keys()\n",
            "/usr/local/lib/python3.11/dist-packages/albumentations/core/composition.py:331: UserWarning: Got processor for keypoints, but no transform to process it.\n",
            "  self._set_keys()\n",
            "/usr/local/lib/python3.11/dist-packages/albumentations/core/composition.py:331: UserWarning: Got processor for keypoints, but no transform to process it.\n",
            "  self._set_keys()\n",
            "/usr/local/lib/python3.11/dist-packages/albumentations/core/composition.py:331: UserWarning: Got processor for keypoints, but no transform to process it.\n",
            "  self._set_keys()\n",
            "/usr/local/lib/python3.11/dist-packages/albumentations/core/composition.py:331: UserWarning: Got processor for keypoints, but no transform to process it.\n",
            "  self._set_keys()\n",
            "/usr/local/lib/python3.11/dist-packages/albumentations/core/composition.py:331: UserWarning: Got processor for keypoints, but no transform to process it.\n",
            "  self._set_keys()\n",
            "/usr/local/lib/python3.11/dist-packages/albumentations/core/composition.py:331: UserWarning: Got processor for keypoints, but no transform to process it.\n",
            "  self._set_keys()\n",
            "/usr/local/lib/python3.11/dist-packages/albumentations/core/composition.py:331: UserWarning: Got processor for keypoints, but no transform to process it.\n",
            "  self._set_keys()\n",
            "INFO:20250516_evaluation:test [ 41/258] eta: 0:12:19 n: 1 recall: 1.0 precision: 0.25 f1-score: 0.4 MAE: 3.0 MSE: 9.0 RMSE: 3.0 time: 3.3524 data: 0.6101 max mem: 1471\n"
          ]
        },
        {
          "output_type": "stream",
          "name": "stdout",
          "text": [
            "test [ 41/258] eta: 0:12:19 n: 1 recall: 1.0 precision: 0.25 f1-score: 0.4 MAE: 3.0 MSE: 9.0 RMSE: 3.0 time: 3.3524 data: 0.6101 max mem: 1471\n"
          ]
        },
        {
          "output_type": "stream",
          "name": "stderr",
          "text": [
            "/usr/local/lib/python3.11/dist-packages/albumentations/core/composition.py:331: UserWarning: Got processor for keypoints, but no transform to process it.\n",
            "  self._set_keys()\n",
            "/usr/local/lib/python3.11/dist-packages/albumentations/core/composition.py:331: UserWarning: Got processor for keypoints, but no transform to process it.\n",
            "  self._set_keys()\n",
            "/usr/local/lib/python3.11/dist-packages/albumentations/core/composition.py:331: UserWarning: Got processor for keypoints, but no transform to process it.\n",
            "  self._set_keys()\n",
            "/usr/local/lib/python3.11/dist-packages/albumentations/core/composition.py:331: UserWarning: Got processor for keypoints, but no transform to process it.\n",
            "  self._set_keys()\n",
            "/usr/local/lib/python3.11/dist-packages/albumentations/core/composition.py:331: UserWarning: Got processor for keypoints, but no transform to process it.\n",
            "  self._set_keys()\n",
            "/usr/local/lib/python3.11/dist-packages/albumentations/core/composition.py:331: UserWarning: Got processor for keypoints, but no transform to process it.\n",
            "  self._set_keys()\n",
            "/usr/local/lib/python3.11/dist-packages/albumentations/core/composition.py:331: UserWarning: Got processor for keypoints, but no transform to process it.\n",
            "  self._set_keys()\n",
            "/usr/local/lib/python3.11/dist-packages/albumentations/core/composition.py:331: UserWarning: Got processor for keypoints, but no transform to process it.\n",
            "  self._set_keys()\n",
            "/usr/local/lib/python3.11/dist-packages/albumentations/core/composition.py:331: UserWarning: Got processor for keypoints, but no transform to process it.\n",
            "  self._set_keys()\n",
            "/usr/local/lib/python3.11/dist-packages/albumentations/core/composition.py:331: UserWarning: Got processor for keypoints, but no transform to process it.\n",
            "  self._set_keys()\n",
            "INFO:20250516_evaluation:test [ 51/258] eta: 0:11:43 n: 6 recall: 1.0 precision: 0.67 f1-score: 0.8 MAE: 3.0 MSE: 9.0 RMSE: 3.0 time: 3.3541 data: 0.6085 max mem: 1471\n"
          ]
        },
        {
          "output_type": "stream",
          "name": "stdout",
          "text": [
            "test [ 51/258] eta: 0:11:43 n: 6 recall: 1.0 precision: 0.67 f1-score: 0.8 MAE: 3.0 MSE: 9.0 RMSE: 3.0 time: 3.3541 data: 0.6085 max mem: 1471\n"
          ]
        },
        {
          "output_type": "stream",
          "name": "stderr",
          "text": [
            "/usr/local/lib/python3.11/dist-packages/albumentations/core/composition.py:331: UserWarning: Got processor for keypoints, but no transform to process it.\n",
            "  self._set_keys()\n",
            "/usr/local/lib/python3.11/dist-packages/albumentations/core/composition.py:331: UserWarning: Got processor for keypoints, but no transform to process it.\n",
            "  self._set_keys()\n",
            "/usr/local/lib/python3.11/dist-packages/albumentations/core/composition.py:331: UserWarning: Got processor for keypoints, but no transform to process it.\n",
            "  self._set_keys()\n",
            "/usr/local/lib/python3.11/dist-packages/albumentations/core/composition.py:331: UserWarning: Got processor for keypoints, but no transform to process it.\n",
            "  self._set_keys()\n",
            "/usr/local/lib/python3.11/dist-packages/albumentations/core/composition.py:331: UserWarning: Got processor for keypoints, but no transform to process it.\n",
            "  self._set_keys()\n",
            "/usr/local/lib/python3.11/dist-packages/albumentations/core/composition.py:331: UserWarning: Got processor for keypoints, but no transform to process it.\n",
            "  self._set_keys()\n",
            "/usr/local/lib/python3.11/dist-packages/albumentations/core/composition.py:331: UserWarning: Got processor for keypoints, but no transform to process it.\n",
            "  self._set_keys()\n",
            "/usr/local/lib/python3.11/dist-packages/albumentations/core/composition.py:331: UserWarning: Got processor for keypoints, but no transform to process it.\n",
            "  self._set_keys()\n",
            "/usr/local/lib/python3.11/dist-packages/albumentations/core/composition.py:331: UserWarning: Got processor for keypoints, but no transform to process it.\n",
            "  self._set_keys()\n",
            "/usr/local/lib/python3.11/dist-packages/albumentations/core/composition.py:331: UserWarning: Got processor for keypoints, but no transform to process it.\n",
            "  self._set_keys()\n",
            "INFO:20250516_evaluation:test [ 61/258] eta: 0:11:09 n: 2 recall: 1.0 precision: 1.0 f1-score: 1.0 MAE: 0.0 MSE: 0.0 RMSE: 0.0 time: 3.3539 data: 0.6058 max mem: 1471\n"
          ]
        },
        {
          "output_type": "stream",
          "name": "stdout",
          "text": [
            "test [ 61/258] eta: 0:11:09 n: 2 recall: 1.0 precision: 1.0 f1-score: 1.0 MAE: 0.0 MSE: 0.0 RMSE: 0.0 time: 3.3539 data: 0.6058 max mem: 1471\n"
          ]
        },
        {
          "output_type": "stream",
          "name": "stderr",
          "text": [
            "/usr/local/lib/python3.11/dist-packages/albumentations/core/composition.py:331: UserWarning: Got processor for keypoints, but no transform to process it.\n",
            "  self._set_keys()\n",
            "/usr/local/lib/python3.11/dist-packages/albumentations/core/composition.py:331: UserWarning: Got processor for keypoints, but no transform to process it.\n",
            "  self._set_keys()\n",
            "/usr/local/lib/python3.11/dist-packages/albumentations/core/composition.py:331: UserWarning: Got processor for keypoints, but no transform to process it.\n",
            "  self._set_keys()\n",
            "/usr/local/lib/python3.11/dist-packages/albumentations/core/composition.py:331: UserWarning: Got processor for keypoints, but no transform to process it.\n",
            "  self._set_keys()\n",
            "/usr/local/lib/python3.11/dist-packages/albumentations/core/composition.py:331: UserWarning: Got processor for keypoints, but no transform to process it.\n",
            "  self._set_keys()\n",
            "/usr/local/lib/python3.11/dist-packages/albumentations/core/composition.py:331: UserWarning: Got processor for keypoints, but no transform to process it.\n",
            "  self._set_keys()\n",
            "/usr/local/lib/python3.11/dist-packages/albumentations/core/composition.py:331: UserWarning: Got processor for keypoints, but no transform to process it.\n",
            "  self._set_keys()\n",
            "/usr/local/lib/python3.11/dist-packages/albumentations/core/composition.py:331: UserWarning: Got processor for keypoints, but no transform to process it.\n",
            "  self._set_keys()\n",
            "/usr/local/lib/python3.11/dist-packages/albumentations/core/composition.py:331: UserWarning: Got processor for keypoints, but no transform to process it.\n",
            "  self._set_keys()\n",
            "/usr/local/lib/python3.11/dist-packages/albumentations/core/composition.py:331: UserWarning: Got processor for keypoints, but no transform to process it.\n",
            "  self._set_keys()\n",
            "INFO:20250516_evaluation:test [ 71/258] eta: 0:10:34 n: 1 recall: 0.0 precision: 0.0 f1-score: 0.0 MAE: 1.0 MSE: 1.0 RMSE: 1.0 time: 3.3622 data: 0.6107 max mem: 1471\n"
          ]
        },
        {
          "output_type": "stream",
          "name": "stdout",
          "text": [
            "test [ 71/258] eta: 0:10:34 n: 1 recall: 0.0 precision: 0.0 f1-score: 0.0 MAE: 1.0 MSE: 1.0 RMSE: 1.0 time: 3.3622 data: 0.6107 max mem: 1471\n"
          ]
        },
        {
          "output_type": "stream",
          "name": "stderr",
          "text": [
            "/usr/local/lib/python3.11/dist-packages/albumentations/core/composition.py:331: UserWarning: Got processor for keypoints, but no transform to process it.\n",
            "  self._set_keys()\n",
            "/usr/local/lib/python3.11/dist-packages/albumentations/core/composition.py:331: UserWarning: Got processor for keypoints, but no transform to process it.\n",
            "  self._set_keys()\n",
            "/usr/local/lib/python3.11/dist-packages/albumentations/core/composition.py:331: UserWarning: Got processor for keypoints, but no transform to process it.\n",
            "  self._set_keys()\n",
            "/usr/local/lib/python3.11/dist-packages/albumentations/core/composition.py:331: UserWarning: Got processor for keypoints, but no transform to process it.\n",
            "  self._set_keys()\n",
            "/usr/local/lib/python3.11/dist-packages/albumentations/core/composition.py:331: UserWarning: Got processor for keypoints, but no transform to process it.\n",
            "  self._set_keys()\n",
            "/usr/local/lib/python3.11/dist-packages/albumentations/core/composition.py:331: UserWarning: Got processor for keypoints, but no transform to process it.\n",
            "  self._set_keys()\n",
            "/usr/local/lib/python3.11/dist-packages/albumentations/core/composition.py:331: UserWarning: Got processor for keypoints, but no transform to process it.\n",
            "  self._set_keys()\n",
            "/usr/local/lib/python3.11/dist-packages/albumentations/core/composition.py:331: UserWarning: Got processor for keypoints, but no transform to process it.\n",
            "  self._set_keys()\n",
            "/usr/local/lib/python3.11/dist-packages/albumentations/core/composition.py:331: UserWarning: Got processor for keypoints, but no transform to process it.\n",
            "  self._set_keys()\n",
            "/usr/local/lib/python3.11/dist-packages/albumentations/core/composition.py:331: UserWarning: Got processor for keypoints, but no transform to process it.\n",
            "  self._set_keys()\n",
            "INFO:20250516_evaluation:test [ 81/258] eta: 0:10:00 n: 2 recall: 1.0 precision: 1.0 f1-score: 1.0 MAE: 0.0 MSE: 0.0 RMSE: 0.0 time: 3.3658 data: 0.6132 max mem: 1471\n"
          ]
        },
        {
          "output_type": "stream",
          "name": "stdout",
          "text": [
            "test [ 81/258] eta: 0:10:00 n: 2 recall: 1.0 precision: 1.0 f1-score: 1.0 MAE: 0.0 MSE: 0.0 RMSE: 0.0 time: 3.3658 data: 0.6132 max mem: 1471\n"
          ]
        },
        {
          "output_type": "stream",
          "name": "stderr",
          "text": [
            "/usr/local/lib/python3.11/dist-packages/albumentations/core/composition.py:331: UserWarning: Got processor for keypoints, but no transform to process it.\n",
            "  self._set_keys()\n",
            "/usr/local/lib/python3.11/dist-packages/albumentations/core/composition.py:331: UserWarning: Got processor for keypoints, but no transform to process it.\n",
            "  self._set_keys()\n",
            "/usr/local/lib/python3.11/dist-packages/albumentations/core/composition.py:331: UserWarning: Got processor for keypoints, but no transform to process it.\n",
            "  self._set_keys()\n",
            "/usr/local/lib/python3.11/dist-packages/albumentations/core/composition.py:331: UserWarning: Got processor for keypoints, but no transform to process it.\n",
            "  self._set_keys()\n",
            "/usr/local/lib/python3.11/dist-packages/albumentations/core/composition.py:331: UserWarning: Got processor for keypoints, but no transform to process it.\n",
            "  self._set_keys()\n",
            "/usr/local/lib/python3.11/dist-packages/albumentations/core/composition.py:331: UserWarning: Got processor for keypoints, but no transform to process it.\n",
            "  self._set_keys()\n",
            "/usr/local/lib/python3.11/dist-packages/albumentations/core/composition.py:331: UserWarning: Got processor for keypoints, but no transform to process it.\n",
            "  self._set_keys()\n",
            "/usr/local/lib/python3.11/dist-packages/albumentations/core/composition.py:331: UserWarning: Got processor for keypoints, but no transform to process it.\n",
            "  self._set_keys()\n",
            "/usr/local/lib/python3.11/dist-packages/albumentations/core/composition.py:331: UserWarning: Got processor for keypoints, but no transform to process it.\n",
            "  self._set_keys()\n",
            "/usr/local/lib/python3.11/dist-packages/albumentations/core/composition.py:331: UserWarning: Got processor for keypoints, but no transform to process it.\n",
            "  self._set_keys()\n",
            "INFO:20250516_evaluation:test [ 91/258] eta: 0:09:27 n: 5 recall: 1.0 precision: 0.83 f1-score: 0.91 MAE: 1.0 MSE: 1.0 RMSE: 1.0 time: 3.3707 data: 0.6132 max mem: 1471\n"
          ]
        },
        {
          "output_type": "stream",
          "name": "stdout",
          "text": [
            "test [ 91/258] eta: 0:09:27 n: 5 recall: 1.0 precision: 0.83 f1-score: 0.91 MAE: 1.0 MSE: 1.0 RMSE: 1.0 time: 3.3707 data: 0.6132 max mem: 1471\n"
          ]
        },
        {
          "output_type": "stream",
          "name": "stderr",
          "text": [
            "/usr/local/lib/python3.11/dist-packages/albumentations/core/composition.py:331: UserWarning: Got processor for keypoints, but no transform to process it.\n",
            "  self._set_keys()\n",
            "/usr/local/lib/python3.11/dist-packages/albumentations/core/composition.py:331: UserWarning: Got processor for keypoints, but no transform to process it.\n",
            "  self._set_keys()\n",
            "/usr/local/lib/python3.11/dist-packages/albumentations/core/composition.py:331: UserWarning: Got processor for keypoints, but no transform to process it.\n",
            "  self._set_keys()\n",
            "/usr/local/lib/python3.11/dist-packages/albumentations/core/composition.py:331: UserWarning: Got processor for keypoints, but no transform to process it.\n",
            "  self._set_keys()\n",
            "/usr/local/lib/python3.11/dist-packages/albumentations/core/composition.py:331: UserWarning: Got processor for keypoints, but no transform to process it.\n",
            "  self._set_keys()\n",
            "/usr/local/lib/python3.11/dist-packages/albumentations/core/composition.py:331: UserWarning: Got processor for keypoints, but no transform to process it.\n",
            "  self._set_keys()\n",
            "/usr/local/lib/python3.11/dist-packages/albumentations/core/composition.py:331: UserWarning: Got processor for keypoints, but no transform to process it.\n",
            "  self._set_keys()\n",
            "/usr/local/lib/python3.11/dist-packages/albumentations/core/composition.py:331: UserWarning: Got processor for keypoints, but no transform to process it.\n",
            "  self._set_keys()\n",
            "/usr/local/lib/python3.11/dist-packages/albumentations/core/composition.py:331: UserWarning: Got processor for keypoints, but no transform to process it.\n",
            "  self._set_keys()\n",
            "/usr/local/lib/python3.11/dist-packages/albumentations/core/composition.py:331: UserWarning: Got processor for keypoints, but no transform to process it.\n",
            "  self._set_keys()\n",
            "INFO:20250516_evaluation:test [101/258] eta: 0:08:53 n: 2 recall: 1.0 precision: 1.0 f1-score: 1.0 MAE: 0.0 MSE: 0.0 RMSE: 0.0 time: 3.3819 data: 0.6156 max mem: 1471\n"
          ]
        },
        {
          "output_type": "stream",
          "name": "stdout",
          "text": [
            "test [101/258] eta: 0:08:53 n: 2 recall: 1.0 precision: 1.0 f1-score: 1.0 MAE: 0.0 MSE: 0.0 RMSE: 0.0 time: 3.3819 data: 0.6156 max mem: 1471\n"
          ]
        },
        {
          "output_type": "stream",
          "name": "stderr",
          "text": [
            "/usr/local/lib/python3.11/dist-packages/albumentations/core/composition.py:331: UserWarning: Got processor for keypoints, but no transform to process it.\n",
            "  self._set_keys()\n",
            "/usr/local/lib/python3.11/dist-packages/albumentations/core/composition.py:331: UserWarning: Got processor for keypoints, but no transform to process it.\n",
            "  self._set_keys()\n",
            "/usr/local/lib/python3.11/dist-packages/albumentations/core/composition.py:331: UserWarning: Got processor for keypoints, but no transform to process it.\n",
            "  self._set_keys()\n",
            "/usr/local/lib/python3.11/dist-packages/albumentations/core/composition.py:331: UserWarning: Got processor for keypoints, but no transform to process it.\n",
            "  self._set_keys()\n",
            "/usr/local/lib/python3.11/dist-packages/albumentations/core/composition.py:331: UserWarning: Got processor for keypoints, but no transform to process it.\n",
            "  self._set_keys()\n",
            "/usr/local/lib/python3.11/dist-packages/albumentations/core/composition.py:331: UserWarning: Got processor for keypoints, but no transform to process it.\n",
            "  self._set_keys()\n",
            "/usr/local/lib/python3.11/dist-packages/albumentations/core/composition.py:331: UserWarning: Got processor for keypoints, but no transform to process it.\n",
            "  self._set_keys()\n",
            "/usr/local/lib/python3.11/dist-packages/albumentations/core/composition.py:331: UserWarning: Got processor for keypoints, but no transform to process it.\n",
            "  self._set_keys()\n",
            "/usr/local/lib/python3.11/dist-packages/albumentations/core/composition.py:331: UserWarning: Got processor for keypoints, but no transform to process it.\n",
            "  self._set_keys()\n",
            "/usr/local/lib/python3.11/dist-packages/albumentations/core/composition.py:331: UserWarning: Got processor for keypoints, but no transform to process it.\n",
            "  self._set_keys()\n",
            "INFO:20250516_evaluation:test [111/258] eta: 0:08:19 n: 5 recall: 0.0 precision: 0.0 f1-score: 0.0 MAE: 4.0 MSE: 16.0 RMSE: 4.0 time: 3.3844 data: 0.6183 max mem: 1471\n"
          ]
        },
        {
          "output_type": "stream",
          "name": "stdout",
          "text": [
            "test [111/258] eta: 0:08:19 n: 5 recall: 0.0 precision: 0.0 f1-score: 0.0 MAE: 4.0 MSE: 16.0 RMSE: 4.0 time: 3.3844 data: 0.6183 max mem: 1471\n"
          ]
        },
        {
          "output_type": "stream",
          "name": "stderr",
          "text": [
            "/usr/local/lib/python3.11/dist-packages/albumentations/core/composition.py:331: UserWarning: Got processor for keypoints, but no transform to process it.\n",
            "  self._set_keys()\n",
            "/usr/local/lib/python3.11/dist-packages/albumentations/core/composition.py:331: UserWarning: Got processor for keypoints, but no transform to process it.\n",
            "  self._set_keys()\n",
            "/usr/local/lib/python3.11/dist-packages/albumentations/core/composition.py:331: UserWarning: Got processor for keypoints, but no transform to process it.\n",
            "  self._set_keys()\n",
            "/usr/local/lib/python3.11/dist-packages/albumentations/core/composition.py:331: UserWarning: Got processor for keypoints, but no transform to process it.\n",
            "  self._set_keys()\n",
            "/usr/local/lib/python3.11/dist-packages/albumentations/core/composition.py:331: UserWarning: Got processor for keypoints, but no transform to process it.\n",
            "  self._set_keys()\n",
            "/usr/local/lib/python3.11/dist-packages/albumentations/core/composition.py:331: UserWarning: Got processor for keypoints, but no transform to process it.\n",
            "  self._set_keys()\n",
            "/usr/local/lib/python3.11/dist-packages/albumentations/core/composition.py:331: UserWarning: Got processor for keypoints, but no transform to process it.\n",
            "  self._set_keys()\n",
            "/usr/local/lib/python3.11/dist-packages/albumentations/core/composition.py:331: UserWarning: Got processor for keypoints, but no transform to process it.\n",
            "  self._set_keys()\n",
            "/usr/local/lib/python3.11/dist-packages/albumentations/core/composition.py:331: UserWarning: Got processor for keypoints, but no transform to process it.\n",
            "  self._set_keys()\n",
            "/usr/local/lib/python3.11/dist-packages/albumentations/core/composition.py:331: UserWarning: Got processor for keypoints, but no transform to process it.\n",
            "  self._set_keys()\n",
            "INFO:20250516_evaluation:test [121/258] eta: 0:07:45 n: 1 recall: 1.0 precision: 1.0 f1-score: 1.0 MAE: 0.0 MSE: 0.0 RMSE: 0.0 time: 3.3701 data: 0.6203 max mem: 1471\n"
          ]
        },
        {
          "output_type": "stream",
          "name": "stdout",
          "text": [
            "test [121/258] eta: 0:07:45 n: 1 recall: 1.0 precision: 1.0 f1-score: 1.0 MAE: 0.0 MSE: 0.0 RMSE: 0.0 time: 3.3701 data: 0.6203 max mem: 1471\n"
          ]
        },
        {
          "output_type": "stream",
          "name": "stderr",
          "text": [
            "/usr/local/lib/python3.11/dist-packages/albumentations/core/composition.py:331: UserWarning: Got processor for keypoints, but no transform to process it.\n",
            "  self._set_keys()\n",
            "/usr/local/lib/python3.11/dist-packages/albumentations/core/composition.py:331: UserWarning: Got processor for keypoints, but no transform to process it.\n",
            "  self._set_keys()\n",
            "/usr/local/lib/python3.11/dist-packages/albumentations/core/composition.py:331: UserWarning: Got processor for keypoints, but no transform to process it.\n",
            "  self._set_keys()\n",
            "/usr/local/lib/python3.11/dist-packages/albumentations/core/composition.py:331: UserWarning: Got processor for keypoints, but no transform to process it.\n",
            "  self._set_keys()\n",
            "/usr/local/lib/python3.11/dist-packages/albumentations/core/composition.py:331: UserWarning: Got processor for keypoints, but no transform to process it.\n",
            "  self._set_keys()\n",
            "/usr/local/lib/python3.11/dist-packages/albumentations/core/composition.py:331: UserWarning: Got processor for keypoints, but no transform to process it.\n",
            "  self._set_keys()\n",
            "/usr/local/lib/python3.11/dist-packages/albumentations/core/composition.py:331: UserWarning: Got processor for keypoints, but no transform to process it.\n",
            "  self._set_keys()\n",
            "/usr/local/lib/python3.11/dist-packages/albumentations/core/composition.py:331: UserWarning: Got processor for keypoints, but no transform to process it.\n",
            "  self._set_keys()\n",
            "/usr/local/lib/python3.11/dist-packages/albumentations/core/composition.py:331: UserWarning: Got processor for keypoints, but no transform to process it.\n",
            "  self._set_keys()\n",
            "/usr/local/lib/python3.11/dist-packages/albumentations/core/composition.py:331: UserWarning: Got processor for keypoints, but no transform to process it.\n",
            "  self._set_keys()\n",
            "INFO:20250516_evaluation:test [131/258] eta: 0:07:11 n: 17 recall: 1.0 precision: 0.85 f1-score: 0.92 MAE: 3.0 MSE: 9.0 RMSE: 3.0 time: 3.3582 data: 0.6185 max mem: 1471\n"
          ]
        },
        {
          "output_type": "stream",
          "name": "stdout",
          "text": [
            "test [131/258] eta: 0:07:11 n: 17 recall: 1.0 precision: 0.85 f1-score: 0.92 MAE: 3.0 MSE: 9.0 RMSE: 3.0 time: 3.3582 data: 0.6185 max mem: 1471\n"
          ]
        },
        {
          "output_type": "stream",
          "name": "stderr",
          "text": [
            "/usr/local/lib/python3.11/dist-packages/albumentations/core/composition.py:331: UserWarning: Got processor for keypoints, but no transform to process it.\n",
            "  self._set_keys()\n",
            "/usr/local/lib/python3.11/dist-packages/albumentations/core/composition.py:331: UserWarning: Got processor for keypoints, but no transform to process it.\n",
            "  self._set_keys()\n",
            "/usr/local/lib/python3.11/dist-packages/albumentations/core/composition.py:331: UserWarning: Got processor for keypoints, but no transform to process it.\n",
            "  self._set_keys()\n",
            "/usr/local/lib/python3.11/dist-packages/albumentations/core/composition.py:331: UserWarning: Got processor for keypoints, but no transform to process it.\n",
            "  self._set_keys()\n",
            "/usr/local/lib/python3.11/dist-packages/albumentations/core/composition.py:331: UserWarning: Got processor for keypoints, but no transform to process it.\n",
            "  self._set_keys()\n",
            "/usr/local/lib/python3.11/dist-packages/albumentations/core/composition.py:331: UserWarning: Got processor for keypoints, but no transform to process it.\n",
            "  self._set_keys()\n",
            "/usr/local/lib/python3.11/dist-packages/albumentations/core/composition.py:331: UserWarning: Got processor for keypoints, but no transform to process it.\n",
            "  self._set_keys()\n",
            "/usr/local/lib/python3.11/dist-packages/albumentations/core/composition.py:331: UserWarning: Got processor for keypoints, but no transform to process it.\n",
            "  self._set_keys()\n",
            "/usr/local/lib/python3.11/dist-packages/albumentations/core/composition.py:331: UserWarning: Got processor for keypoints, but no transform to process it.\n",
            "  self._set_keys()\n",
            "/usr/local/lib/python3.11/dist-packages/albumentations/core/composition.py:331: UserWarning: Got processor for keypoints, but no transform to process it.\n",
            "  self._set_keys()\n",
            "INFO:20250516_evaluation:test [141/258] eta: 0:06:37 n: 1 recall: 1.0 precision: 0.2 f1-score: 0.33 MAE: 4.0 MSE: 16.0 RMSE: 4.0 time: 3.3406 data: 0.6168 max mem: 1471\n"
          ]
        },
        {
          "output_type": "stream",
          "name": "stdout",
          "text": [
            "test [141/258] eta: 0:06:37 n: 1 recall: 1.0 precision: 0.2 f1-score: 0.33 MAE: 4.0 MSE: 16.0 RMSE: 4.0 time: 3.3406 data: 0.6168 max mem: 1471\n"
          ]
        },
        {
          "output_type": "stream",
          "name": "stderr",
          "text": [
            "/usr/local/lib/python3.11/dist-packages/albumentations/core/composition.py:331: UserWarning: Got processor for keypoints, but no transform to process it.\n",
            "  self._set_keys()\n",
            "/usr/local/lib/python3.11/dist-packages/albumentations/core/composition.py:331: UserWarning: Got processor for keypoints, but no transform to process it.\n",
            "  self._set_keys()\n",
            "/usr/local/lib/python3.11/dist-packages/albumentations/core/composition.py:331: UserWarning: Got processor for keypoints, but no transform to process it.\n",
            "  self._set_keys()\n",
            "/usr/local/lib/python3.11/dist-packages/albumentations/core/composition.py:331: UserWarning: Got processor for keypoints, but no transform to process it.\n",
            "  self._set_keys()\n",
            "/usr/local/lib/python3.11/dist-packages/albumentations/core/composition.py:331: UserWarning: Got processor for keypoints, but no transform to process it.\n",
            "  self._set_keys()\n",
            "/usr/local/lib/python3.11/dist-packages/albumentations/core/composition.py:331: UserWarning: Got processor for keypoints, but no transform to process it.\n",
            "  self._set_keys()\n",
            "/usr/local/lib/python3.11/dist-packages/albumentations/core/composition.py:331: UserWarning: Got processor for keypoints, but no transform to process it.\n",
            "  self._set_keys()\n",
            "/usr/local/lib/python3.11/dist-packages/albumentations/core/composition.py:331: UserWarning: Got processor for keypoints, but no transform to process it.\n",
            "  self._set_keys()\n",
            "/usr/local/lib/python3.11/dist-packages/albumentations/core/composition.py:331: UserWarning: Got processor for keypoints, but no transform to process it.\n",
            "  self._set_keys()\n",
            "/usr/local/lib/python3.11/dist-packages/albumentations/core/composition.py:331: UserWarning: Got processor for keypoints, but no transform to process it.\n",
            "  self._set_keys()\n",
            "INFO:20250516_evaluation:test [151/258] eta: 0:06:03 n: 1 recall: 1.0 precision: 0.5 f1-score: 0.67 MAE: 1.0 MSE: 1.0 RMSE: 1.0 time: 3.3325 data: 0.6123 max mem: 1471\n"
          ]
        },
        {
          "output_type": "stream",
          "name": "stdout",
          "text": [
            "test [151/258] eta: 0:06:03 n: 1 recall: 1.0 precision: 0.5 f1-score: 0.67 MAE: 1.0 MSE: 1.0 RMSE: 1.0 time: 3.3325 data: 0.6123 max mem: 1471\n"
          ]
        },
        {
          "output_type": "stream",
          "name": "stderr",
          "text": [
            "/usr/local/lib/python3.11/dist-packages/albumentations/core/composition.py:331: UserWarning: Got processor for keypoints, but no transform to process it.\n",
            "  self._set_keys()\n",
            "/usr/local/lib/python3.11/dist-packages/albumentations/core/composition.py:331: UserWarning: Got processor for keypoints, but no transform to process it.\n",
            "  self._set_keys()\n",
            "/usr/local/lib/python3.11/dist-packages/albumentations/core/composition.py:331: UserWarning: Got processor for keypoints, but no transform to process it.\n",
            "  self._set_keys()\n",
            "/usr/local/lib/python3.11/dist-packages/albumentations/core/composition.py:331: UserWarning: Got processor for keypoints, but no transform to process it.\n",
            "  self._set_keys()\n",
            "/usr/local/lib/python3.11/dist-packages/albumentations/core/composition.py:331: UserWarning: Got processor for keypoints, but no transform to process it.\n",
            "  self._set_keys()\n",
            "/usr/local/lib/python3.11/dist-packages/albumentations/core/composition.py:331: UserWarning: Got processor for keypoints, but no transform to process it.\n",
            "  self._set_keys()\n",
            "/usr/local/lib/python3.11/dist-packages/albumentations/core/composition.py:331: UserWarning: Got processor for keypoints, but no transform to process it.\n",
            "  self._set_keys()\n",
            "/usr/local/lib/python3.11/dist-packages/albumentations/core/composition.py:331: UserWarning: Got processor for keypoints, but no transform to process it.\n",
            "  self._set_keys()\n",
            "/usr/local/lib/python3.11/dist-packages/albumentations/core/composition.py:331: UserWarning: Got processor for keypoints, but no transform to process it.\n",
            "  self._set_keys()\n",
            "/usr/local/lib/python3.11/dist-packages/albumentations/core/composition.py:331: UserWarning: Got processor for keypoints, but no transform to process it.\n",
            "  self._set_keys()\n",
            "INFO:20250516_evaluation:test [161/258] eta: 0:05:29 n: 1 recall: 1.0 precision: 0.5 f1-score: 0.67 MAE: 1.0 MSE: 1.0 RMSE: 1.0 time: 3.2655 data: 0.5950 max mem: 1471\n"
          ]
        },
        {
          "output_type": "stream",
          "name": "stdout",
          "text": [
            "test [161/258] eta: 0:05:29 n: 1 recall: 1.0 precision: 0.5 f1-score: 0.67 MAE: 1.0 MSE: 1.0 RMSE: 1.0 time: 3.2655 data: 0.5950 max mem: 1471\n"
          ]
        },
        {
          "output_type": "stream",
          "name": "stderr",
          "text": [
            "/usr/local/lib/python3.11/dist-packages/albumentations/core/composition.py:331: UserWarning: Got processor for keypoints, but no transform to process it.\n",
            "  self._set_keys()\n",
            "/usr/local/lib/python3.11/dist-packages/albumentations/core/composition.py:331: UserWarning: Got processor for keypoints, but no transform to process it.\n",
            "  self._set_keys()\n",
            "/usr/local/lib/python3.11/dist-packages/albumentations/core/composition.py:331: UserWarning: Got processor for keypoints, but no transform to process it.\n",
            "  self._set_keys()\n",
            "/usr/local/lib/python3.11/dist-packages/albumentations/core/composition.py:331: UserWarning: Got processor for keypoints, but no transform to process it.\n",
            "  self._set_keys()\n",
            "/usr/local/lib/python3.11/dist-packages/albumentations/core/composition.py:331: UserWarning: Got processor for keypoints, but no transform to process it.\n",
            "  self._set_keys()\n",
            "/usr/local/lib/python3.11/dist-packages/albumentations/core/composition.py:331: UserWarning: Got processor for keypoints, but no transform to process it.\n",
            "  self._set_keys()\n",
            "/usr/local/lib/python3.11/dist-packages/albumentations/core/composition.py:331: UserWarning: Got processor for keypoints, but no transform to process it.\n",
            "  self._set_keys()\n",
            "/usr/local/lib/python3.11/dist-packages/albumentations/core/composition.py:331: UserWarning: Got processor for keypoints, but no transform to process it.\n",
            "  self._set_keys()\n",
            "/usr/local/lib/python3.11/dist-packages/albumentations/core/composition.py:331: UserWarning: Got processor for keypoints, but no transform to process it.\n",
            "  self._set_keys()\n",
            "/usr/local/lib/python3.11/dist-packages/albumentations/core/composition.py:331: UserWarning: Got processor for keypoints, but no transform to process it.\n",
            "  self._set_keys()\n",
            "INFO:20250516_evaluation:test [171/258] eta: 0:04:52 n: 11 recall: 0.91 precision: 1.0 f1-score: 0.95 MAE: 1.0 MSE: 1.0 RMSE: 1.0 time: 3.0193 data: 0.5578 max mem: 1471\n"
          ]
        },
        {
          "output_type": "stream",
          "name": "stdout",
          "text": [
            "test [171/258] eta: 0:04:52 n: 11 recall: 0.91 precision: 1.0 f1-score: 0.95 MAE: 1.0 MSE: 1.0 RMSE: 1.0 time: 3.0193 data: 0.5578 max mem: 1471\n"
          ]
        },
        {
          "output_type": "stream",
          "name": "stderr",
          "text": [
            "/usr/local/lib/python3.11/dist-packages/albumentations/core/composition.py:331: UserWarning: Got processor for keypoints, but no transform to process it.\n",
            "  self._set_keys()\n",
            "/usr/local/lib/python3.11/dist-packages/albumentations/core/composition.py:331: UserWarning: Got processor for keypoints, but no transform to process it.\n",
            "  self._set_keys()\n",
            "/usr/local/lib/python3.11/dist-packages/albumentations/core/composition.py:331: UserWarning: Got processor for keypoints, but no transform to process it.\n",
            "  self._set_keys()\n",
            "/usr/local/lib/python3.11/dist-packages/albumentations/core/composition.py:331: UserWarning: Got processor for keypoints, but no transform to process it.\n",
            "  self._set_keys()\n",
            "/usr/local/lib/python3.11/dist-packages/albumentations/core/composition.py:331: UserWarning: Got processor for keypoints, but no transform to process it.\n",
            "  self._set_keys()\n",
            "/usr/local/lib/python3.11/dist-packages/albumentations/core/composition.py:331: UserWarning: Got processor for keypoints, but no transform to process it.\n",
            "  self._set_keys()\n",
            "/usr/local/lib/python3.11/dist-packages/albumentations/core/composition.py:331: UserWarning: Got processor for keypoints, but no transform to process it.\n",
            "  self._set_keys()\n",
            "/usr/local/lib/python3.11/dist-packages/albumentations/core/composition.py:331: UserWarning: Got processor for keypoints, but no transform to process it.\n",
            "  self._set_keys()\n",
            "/usr/local/lib/python3.11/dist-packages/albumentations/core/composition.py:331: UserWarning: Got processor for keypoints, but no transform to process it.\n",
            "  self._set_keys()\n",
            "/usr/local/lib/python3.11/dist-packages/albumentations/core/composition.py:331: UserWarning: Got processor for keypoints, but no transform to process it.\n",
            "  self._set_keys()\n",
            "INFO:20250516_evaluation:test [181/258] eta: 0:04:17 n: 14 recall: 0.5 precision: 0.88 f1-score: 0.64 MAE: 6.0 MSE: 36.0 RMSE: 6.0 time: 2.8602 data: 0.5283 max mem: 1471\n"
          ]
        },
        {
          "output_type": "stream",
          "name": "stdout",
          "text": [
            "test [181/258] eta: 0:04:17 n: 14 recall: 0.5 precision: 0.88 f1-score: 0.64 MAE: 6.0 MSE: 36.0 RMSE: 6.0 time: 2.8602 data: 0.5283 max mem: 1471\n"
          ]
        },
        {
          "output_type": "stream",
          "name": "stderr",
          "text": [
            "/usr/local/lib/python3.11/dist-packages/albumentations/core/composition.py:331: UserWarning: Got processor for keypoints, but no transform to process it.\n",
            "  self._set_keys()\n",
            "/usr/local/lib/python3.11/dist-packages/albumentations/core/composition.py:331: UserWarning: Got processor for keypoints, but no transform to process it.\n",
            "  self._set_keys()\n",
            "/usr/local/lib/python3.11/dist-packages/albumentations/core/composition.py:331: UserWarning: Got processor for keypoints, but no transform to process it.\n",
            "  self._set_keys()\n",
            "/usr/local/lib/python3.11/dist-packages/albumentations/core/composition.py:331: UserWarning: Got processor for keypoints, but no transform to process it.\n",
            "  self._set_keys()\n",
            "/usr/local/lib/python3.11/dist-packages/albumentations/core/composition.py:331: UserWarning: Got processor for keypoints, but no transform to process it.\n",
            "  self._set_keys()\n",
            "/usr/local/lib/python3.11/dist-packages/albumentations/core/composition.py:331: UserWarning: Got processor for keypoints, but no transform to process it.\n",
            "  self._set_keys()\n",
            "/usr/local/lib/python3.11/dist-packages/albumentations/core/composition.py:331: UserWarning: Got processor for keypoints, but no transform to process it.\n",
            "  self._set_keys()\n",
            "/usr/local/lib/python3.11/dist-packages/albumentations/core/composition.py:331: UserWarning: Got processor for keypoints, but no transform to process it.\n",
            "  self._set_keys()\n",
            "/usr/local/lib/python3.11/dist-packages/albumentations/core/composition.py:331: UserWarning: Got processor for keypoints, but no transform to process it.\n",
            "  self._set_keys()\n",
            "/usr/local/lib/python3.11/dist-packages/albumentations/core/composition.py:331: UserWarning: Got processor for keypoints, but no transform to process it.\n",
            "  self._set_keys()\n",
            "INFO:20250516_evaluation:test [191/258] eta: 0:03:43 n: 1 recall: 1.0 precision: 1.0 f1-score: 1.0 MAE: 0.0 MSE: 0.0 RMSE: 0.0 time: 2.8671 data: 0.5232 max mem: 1471\n"
          ]
        },
        {
          "output_type": "stream",
          "name": "stdout",
          "text": [
            "test [191/258] eta: 0:03:43 n: 1 recall: 1.0 precision: 1.0 f1-score: 1.0 MAE: 0.0 MSE: 0.0 RMSE: 0.0 time: 2.8671 data: 0.5232 max mem: 1471\n"
          ]
        },
        {
          "output_type": "stream",
          "name": "stderr",
          "text": [
            "/usr/local/lib/python3.11/dist-packages/albumentations/core/composition.py:331: UserWarning: Got processor for keypoints, but no transform to process it.\n",
            "  self._set_keys()\n",
            "/usr/local/lib/python3.11/dist-packages/albumentations/core/composition.py:331: UserWarning: Got processor for keypoints, but no transform to process it.\n",
            "  self._set_keys()\n",
            "/usr/local/lib/python3.11/dist-packages/albumentations/core/composition.py:331: UserWarning: Got processor for keypoints, but no transform to process it.\n",
            "  self._set_keys()\n",
            "/usr/local/lib/python3.11/dist-packages/albumentations/core/composition.py:331: UserWarning: Got processor for keypoints, but no transform to process it.\n",
            "  self._set_keys()\n",
            "/usr/local/lib/python3.11/dist-packages/albumentations/core/composition.py:331: UserWarning: Got processor for keypoints, but no transform to process it.\n",
            "  self._set_keys()\n",
            "/usr/local/lib/python3.11/dist-packages/albumentations/core/composition.py:331: UserWarning: Got processor for keypoints, but no transform to process it.\n",
            "  self._set_keys()\n",
            "/usr/local/lib/python3.11/dist-packages/albumentations/core/composition.py:331: UserWarning: Got processor for keypoints, but no transform to process it.\n",
            "  self._set_keys()\n",
            "/usr/local/lib/python3.11/dist-packages/albumentations/core/composition.py:331: UserWarning: Got processor for keypoints, but no transform to process it.\n",
            "  self._set_keys()\n",
            "/usr/local/lib/python3.11/dist-packages/albumentations/core/composition.py:331: UserWarning: Got processor for keypoints, but no transform to process it.\n",
            "  self._set_keys()\n",
            "/usr/local/lib/python3.11/dist-packages/albumentations/core/composition.py:331: UserWarning: Got processor for keypoints, but no transform to process it.\n",
            "  self._set_keys()\n",
            "INFO:20250516_evaluation:test [201/258] eta: 0:03:09 n: 1 recall: 1.0 precision: 0.2 f1-score: 0.33 MAE: 4.0 MSE: 16.0 RMSE: 4.0 time: 2.8846 data: 0.5232 max mem: 1471\n"
          ]
        },
        {
          "output_type": "stream",
          "name": "stdout",
          "text": [
            "test [201/258] eta: 0:03:09 n: 1 recall: 1.0 precision: 0.2 f1-score: 0.33 MAE: 4.0 MSE: 16.0 RMSE: 4.0 time: 2.8846 data: 0.5232 max mem: 1471\n"
          ]
        },
        {
          "output_type": "stream",
          "name": "stderr",
          "text": [
            "/usr/local/lib/python3.11/dist-packages/albumentations/core/composition.py:331: UserWarning: Got processor for keypoints, but no transform to process it.\n",
            "  self._set_keys()\n",
            "/usr/local/lib/python3.11/dist-packages/albumentations/core/composition.py:331: UserWarning: Got processor for keypoints, but no transform to process it.\n",
            "  self._set_keys()\n",
            "/usr/local/lib/python3.11/dist-packages/albumentations/core/composition.py:331: UserWarning: Got processor for keypoints, but no transform to process it.\n",
            "  self._set_keys()\n",
            "/usr/local/lib/python3.11/dist-packages/albumentations/core/composition.py:331: UserWarning: Got processor for keypoints, but no transform to process it.\n",
            "  self._set_keys()\n",
            "/usr/local/lib/python3.11/dist-packages/albumentations/core/composition.py:331: UserWarning: Got processor for keypoints, but no transform to process it.\n",
            "  self._set_keys()\n",
            "/usr/local/lib/python3.11/dist-packages/albumentations/core/composition.py:331: UserWarning: Got processor for keypoints, but no transform to process it.\n",
            "  self._set_keys()\n",
            "/usr/local/lib/python3.11/dist-packages/albumentations/core/composition.py:331: UserWarning: Got processor for keypoints, but no transform to process it.\n",
            "  self._set_keys()\n",
            "/usr/local/lib/python3.11/dist-packages/albumentations/core/composition.py:331: UserWarning: Got processor for keypoints, but no transform to process it.\n",
            "  self._set_keys()\n",
            "/usr/local/lib/python3.11/dist-packages/albumentations/core/composition.py:331: UserWarning: Got processor for keypoints, but no transform to process it.\n",
            "  self._set_keys()\n",
            "/usr/local/lib/python3.11/dist-packages/albumentations/core/composition.py:331: UserWarning: Got processor for keypoints, but no transform to process it.\n",
            "  self._set_keys()\n",
            "INFO:20250516_evaluation:test [211/258] eta: 0:02:35 n: 3 recall: 0.67 precision: 1.0 f1-score: 0.8 MAE: 1.0 MSE: 1.0 RMSE: 1.0 time: 2.8902 data: 0.5257 max mem: 1471\n"
          ]
        },
        {
          "output_type": "stream",
          "name": "stdout",
          "text": [
            "test [211/258] eta: 0:02:35 n: 3 recall: 0.67 precision: 1.0 f1-score: 0.8 MAE: 1.0 MSE: 1.0 RMSE: 1.0 time: 2.8902 data: 0.5257 max mem: 1471\n"
          ]
        },
        {
          "output_type": "stream",
          "name": "stderr",
          "text": [
            "/usr/local/lib/python3.11/dist-packages/albumentations/core/composition.py:331: UserWarning: Got processor for keypoints, but no transform to process it.\n",
            "  self._set_keys()\n",
            "/usr/local/lib/python3.11/dist-packages/albumentations/core/composition.py:331: UserWarning: Got processor for keypoints, but no transform to process it.\n",
            "  self._set_keys()\n",
            "/usr/local/lib/python3.11/dist-packages/albumentations/core/composition.py:331: UserWarning: Got processor for keypoints, but no transform to process it.\n",
            "  self._set_keys()\n",
            "/usr/local/lib/python3.11/dist-packages/albumentations/core/composition.py:331: UserWarning: Got processor for keypoints, but no transform to process it.\n",
            "  self._set_keys()\n",
            "/usr/local/lib/python3.11/dist-packages/albumentations/core/composition.py:331: UserWarning: Got processor for keypoints, but no transform to process it.\n",
            "  self._set_keys()\n",
            "/usr/local/lib/python3.11/dist-packages/albumentations/core/composition.py:331: UserWarning: Got processor for keypoints, but no transform to process it.\n",
            "  self._set_keys()\n",
            "/usr/local/lib/python3.11/dist-packages/albumentations/core/composition.py:331: UserWarning: Got processor for keypoints, but no transform to process it.\n",
            "  self._set_keys()\n",
            "/usr/local/lib/python3.11/dist-packages/albumentations/core/composition.py:331: UserWarning: Got processor for keypoints, but no transform to process it.\n",
            "  self._set_keys()\n",
            "/usr/local/lib/python3.11/dist-packages/albumentations/core/composition.py:331: UserWarning: Got processor for keypoints, but no transform to process it.\n",
            "  self._set_keys()\n",
            "/usr/local/lib/python3.11/dist-packages/albumentations/core/composition.py:331: UserWarning: Got processor for keypoints, but no transform to process it.\n",
            "  self._set_keys()\n",
            "INFO:20250516_evaluation:test [221/258] eta: 0:02:02 n: 2 recall: 1.0 precision: 0.67 f1-score: 0.8 MAE: 1.0 MSE: 1.0 RMSE: 1.0 time: 2.8702 data: 0.5355 max mem: 1471\n"
          ]
        },
        {
          "output_type": "stream",
          "name": "stdout",
          "text": [
            "test [221/258] eta: 0:02:02 n: 2 recall: 1.0 precision: 0.67 f1-score: 0.8 MAE: 1.0 MSE: 1.0 RMSE: 1.0 time: 2.8702 data: 0.5355 max mem: 1471\n"
          ]
        },
        {
          "output_type": "stream",
          "name": "stderr",
          "text": [
            "/usr/local/lib/python3.11/dist-packages/albumentations/core/composition.py:331: UserWarning: Got processor for keypoints, but no transform to process it.\n",
            "  self._set_keys()\n",
            "/usr/local/lib/python3.11/dist-packages/albumentations/core/composition.py:331: UserWarning: Got processor for keypoints, but no transform to process it.\n",
            "  self._set_keys()\n",
            "/usr/local/lib/python3.11/dist-packages/albumentations/core/composition.py:331: UserWarning: Got processor for keypoints, but no transform to process it.\n",
            "  self._set_keys()\n",
            "/usr/local/lib/python3.11/dist-packages/albumentations/core/composition.py:331: UserWarning: Got processor for keypoints, but no transform to process it.\n",
            "  self._set_keys()\n",
            "/usr/local/lib/python3.11/dist-packages/albumentations/core/composition.py:331: UserWarning: Got processor for keypoints, but no transform to process it.\n",
            "  self._set_keys()\n",
            "/usr/local/lib/python3.11/dist-packages/albumentations/core/composition.py:331: UserWarning: Got processor for keypoints, but no transform to process it.\n",
            "  self._set_keys()\n",
            "/usr/local/lib/python3.11/dist-packages/albumentations/core/composition.py:331: UserWarning: Got processor for keypoints, but no transform to process it.\n",
            "  self._set_keys()\n",
            "/usr/local/lib/python3.11/dist-packages/albumentations/core/composition.py:331: UserWarning: Got processor for keypoints, but no transform to process it.\n",
            "  self._set_keys()\n",
            "/usr/local/lib/python3.11/dist-packages/albumentations/core/composition.py:331: UserWarning: Got processor for keypoints, but no transform to process it.\n",
            "  self._set_keys()\n",
            "/usr/local/lib/python3.11/dist-packages/albumentations/core/composition.py:331: UserWarning: Got processor for keypoints, but no transform to process it.\n",
            "  self._set_keys()\n",
            "INFO:20250516_evaluation:test [231/258] eta: 0:01:29 n: 7 recall: 0.43 precision: 0.38 f1-score: 0.4 MAE: 1.0 MSE: 1.0 RMSE: 1.0 time: 2.8530 data: 0.5377 max mem: 1471\n"
          ]
        },
        {
          "output_type": "stream",
          "name": "stdout",
          "text": [
            "test [231/258] eta: 0:01:29 n: 7 recall: 0.43 precision: 0.38 f1-score: 0.4 MAE: 1.0 MSE: 1.0 RMSE: 1.0 time: 2.8530 data: 0.5377 max mem: 1471\n"
          ]
        },
        {
          "output_type": "stream",
          "name": "stderr",
          "text": [
            "/usr/local/lib/python3.11/dist-packages/albumentations/core/composition.py:331: UserWarning: Got processor for keypoints, but no transform to process it.\n",
            "  self._set_keys()\n",
            "/usr/local/lib/python3.11/dist-packages/albumentations/core/composition.py:331: UserWarning: Got processor for keypoints, but no transform to process it.\n",
            "  self._set_keys()\n",
            "/usr/local/lib/python3.11/dist-packages/albumentations/core/composition.py:331: UserWarning: Got processor for keypoints, but no transform to process it.\n",
            "  self._set_keys()\n",
            "/usr/local/lib/python3.11/dist-packages/albumentations/core/composition.py:331: UserWarning: Got processor for keypoints, but no transform to process it.\n",
            "  self._set_keys()\n",
            "/usr/local/lib/python3.11/dist-packages/albumentations/core/composition.py:331: UserWarning: Got processor for keypoints, but no transform to process it.\n",
            "  self._set_keys()\n",
            "/usr/local/lib/python3.11/dist-packages/albumentations/core/composition.py:331: UserWarning: Got processor for keypoints, but no transform to process it.\n",
            "  self._set_keys()\n",
            "/usr/local/lib/python3.11/dist-packages/albumentations/core/composition.py:331: UserWarning: Got processor for keypoints, but no transform to process it.\n",
            "  self._set_keys()\n",
            "/usr/local/lib/python3.11/dist-packages/albumentations/core/composition.py:331: UserWarning: Got processor for keypoints, but no transform to process it.\n",
            "  self._set_keys()\n",
            "/usr/local/lib/python3.11/dist-packages/albumentations/core/composition.py:331: UserWarning: Got processor for keypoints, but no transform to process it.\n",
            "  self._set_keys()\n",
            "/usr/local/lib/python3.11/dist-packages/albumentations/core/composition.py:331: UserWarning: Got processor for keypoints, but no transform to process it.\n",
            "  self._set_keys()\n",
            "INFO:20250516_evaluation:test [241/258] eta: 0:00:57 n: 13 recall: 0.46 precision: 0.86 f1-score: 0.6 MAE: 6.0 MSE: 36.0 RMSE: 6.0 time: 2.8580 data: 0.5284 max mem: 1471\n"
          ]
        },
        {
          "output_type": "stream",
          "name": "stdout",
          "text": [
            "test [241/258] eta: 0:00:57 n: 13 recall: 0.46 precision: 0.86 f1-score: 0.6 MAE: 6.0 MSE: 36.0 RMSE: 6.0 time: 2.8580 data: 0.5284 max mem: 1471\n"
          ]
        },
        {
          "output_type": "stream",
          "name": "stderr",
          "text": [
            "/usr/local/lib/python3.11/dist-packages/albumentations/core/composition.py:331: UserWarning: Got processor for keypoints, but no transform to process it.\n",
            "  self._set_keys()\n",
            "/usr/local/lib/python3.11/dist-packages/albumentations/core/composition.py:331: UserWarning: Got processor for keypoints, but no transform to process it.\n",
            "  self._set_keys()\n",
            "/usr/local/lib/python3.11/dist-packages/albumentations/core/composition.py:331: UserWarning: Got processor for keypoints, but no transform to process it.\n",
            "  self._set_keys()\n",
            "/usr/local/lib/python3.11/dist-packages/albumentations/core/composition.py:331: UserWarning: Got processor for keypoints, but no transform to process it.\n",
            "  self._set_keys()\n",
            "/usr/local/lib/python3.11/dist-packages/albumentations/core/composition.py:331: UserWarning: Got processor for keypoints, but no transform to process it.\n",
            "  self._set_keys()\n",
            "/usr/local/lib/python3.11/dist-packages/albumentations/core/composition.py:331: UserWarning: Got processor for keypoints, but no transform to process it.\n",
            "  self._set_keys()\n",
            "/usr/local/lib/python3.11/dist-packages/albumentations/core/composition.py:331: UserWarning: Got processor for keypoints, but no transform to process it.\n",
            "  self._set_keys()\n",
            "/usr/local/lib/python3.11/dist-packages/albumentations/core/composition.py:331: UserWarning: Got processor for keypoints, but no transform to process it.\n",
            "  self._set_keys()\n",
            "/usr/local/lib/python3.11/dist-packages/albumentations/core/composition.py:331: UserWarning: Got processor for keypoints, but no transform to process it.\n",
            "  self._set_keys()\n",
            "/usr/local/lib/python3.11/dist-packages/albumentations/core/composition.py:331: UserWarning: Got processor for keypoints, but no transform to process it.\n",
            "  self._set_keys()\n",
            "INFO:20250516_evaluation:test [251/258] eta: 0:00:25 n: 2 recall: 1.0 precision: 1.0 f1-score: 1.0 MAE: 0.0 MSE: 0.0 RMSE: 0.0 time: 2.8811 data: 0.5240 max mem: 1471\n"
          ]
        },
        {
          "output_type": "stream",
          "name": "stdout",
          "text": [
            "test [251/258] eta: 0:00:25 n: 2 recall: 1.0 precision: 1.0 f1-score: 1.0 MAE: 0.0 MSE: 0.0 RMSE: 0.0 time: 2.8811 data: 0.5240 max mem: 1471\n"
          ]
        },
        {
          "output_type": "stream",
          "name": "stderr",
          "text": [
            "/usr/local/lib/python3.11/dist-packages/albumentations/core/composition.py:331: UserWarning: Got processor for keypoints, but no transform to process it.\n",
            "  self._set_keys()\n",
            "/usr/local/lib/python3.11/dist-packages/albumentations/core/composition.py:331: UserWarning: Got processor for keypoints, but no transform to process it.\n",
            "  self._set_keys()\n",
            "/usr/local/lib/python3.11/dist-packages/albumentations/core/composition.py:331: UserWarning: Got processor for keypoints, but no transform to process it.\n",
            "  self._set_keys()\n",
            "/usr/local/lib/python3.11/dist-packages/albumentations/core/composition.py:331: UserWarning: Got processor for keypoints, but no transform to process it.\n",
            "  self._set_keys()\n",
            "/usr/local/lib/python3.11/dist-packages/albumentations/core/composition.py:331: UserWarning: Got processor for keypoints, but no transform to process it.\n",
            "  self._set_keys()\n",
            "/usr/local/lib/python3.11/dist-packages/albumentations/core/composition.py:331: UserWarning: Got processor for keypoints, but no transform to process it.\n",
            "  self._set_keys()\n",
            "/usr/local/lib/python3.11/dist-packages/albumentations/core/composition.py:331: UserWarning: Got processor for keypoints, but no transform to process it.\n",
            "  self._set_keys()\n",
            "INFO:20250516_evaluation:test [258/258] eta: 0:00:03 n: 3 recall: 0.67 precision: 0.67 f1-score: 0.67 MAE: 0.0 MSE: 0.0 RMSE: 0.0 time: 2.8706 data: 0.5246 max mem: 1471\n",
            "INFO:20250516_evaluation:test Total time: 0:13:39 (3.1744 s / it)\n"
          ]
        },
        {
          "output_type": "stream",
          "name": "stdout",
          "text": [
            "test [258/258] eta: 0:00:03 n: 3 recall: 0.67 precision: 0.67 f1-score: 0.67 MAE: 0.0 MSE: 0.0 RMSE: 0.0 time: 2.8706 data: 0.5246 max mem: 1471\n",
            "test Total time: 0:13:39 (3.1744 s / it)\n"
          ]
        }
      ],
      "source": [
        "# Start testing\n",
        "test_f1_score = test_evaluator.evaluate(returns='f1_score')"
      ]
    },
    {
      "cell_type": "code",
      "execution_count": 25,
      "metadata": {
        "id": "1vICHF-sFGxa",
        "colab": {
          "base_uri": "https://localhost:8080/"
        },
        "outputId": "31a87365-5308-4746-846a-f92e698613c4"
      },
      "outputs": [
        {
          "output_type": "stream",
          "name": "stdout",
          "text": [
            "F1 score = 83%\n"
          ]
        }
      ],
      "source": [
        "# Print global F1 score (%)\n",
        "print(f\"F1 score = {test_f1_score * 100:0.0f}%\")"
      ]
    },
    {
      "cell_type": "code",
      "execution_count": 26,
      "metadata": {
        "id": "ANdn_feR2ZY8",
        "colab": {
          "base_uri": "https://localhost:8080/",
          "height": 269
        },
        "outputId": "103a022e-6c00-4528-a792-3c81e99c755d"
      },
      "outputs": [
        {
          "output_type": "execute_result",
          "data": {
            "text/plain": [
              "    class     n    recall  precision  f1_score  confusion       mae  \\\n",
              "0       1   675  0.875556   0.838298  0.856522   0.057416  1.718310   \n",
              "1       2   349  0.727794   0.916968  0.811502   0.066176  3.500000   \n",
              "2       3   477  0.903564   0.848425  0.875127   0.092632  1.028302   \n",
              "3       4    74  0.445946   0.388235  0.415094   0.057143  2.243243   \n",
              "4       5    36  0.694444   0.657895  0.675676   0.193548  1.230769   \n",
              "5       6   688  0.728198   0.675202  0.700699   0.001992  2.601942   \n",
              "6  binary  2299  0.844715   0.824628  0.834551   0.000000  1.906977   \n",
              "\n",
              "         mse      rmse        ap  \n",
              "0   7.887324  2.808438  0.801938  \n",
              "1  35.642857  5.970164  0.693974  \n",
              "2   3.952830  1.988173  0.859655  \n",
              "3   9.810811  3.132221  0.272273  \n",
              "4   2.153846  1.467599  0.595822  \n",
              "5  19.669903  4.435076  0.655523  \n",
              "6  13.542636  3.680032  0.722731  "
            ],
            "text/html": [
              "\n",
              "  <div id=\"df-783a0e05-07bf-4212-ab58-d8c2ad24a324\" class=\"colab-df-container\">\n",
              "    <div>\n",
              "<style scoped>\n",
              "    .dataframe tbody tr th:only-of-type {\n",
              "        vertical-align: middle;\n",
              "    }\n",
              "\n",
              "    .dataframe tbody tr th {\n",
              "        vertical-align: top;\n",
              "    }\n",
              "\n",
              "    .dataframe thead th {\n",
              "        text-align: right;\n",
              "    }\n",
              "</style>\n",
              "<table border=\"1\" class=\"dataframe\">\n",
              "  <thead>\n",
              "    <tr style=\"text-align: right;\">\n",
              "      <th></th>\n",
              "      <th>class</th>\n",
              "      <th>n</th>\n",
              "      <th>recall</th>\n",
              "      <th>precision</th>\n",
              "      <th>f1_score</th>\n",
              "      <th>confusion</th>\n",
              "      <th>mae</th>\n",
              "      <th>mse</th>\n",
              "      <th>rmse</th>\n",
              "      <th>ap</th>\n",
              "    </tr>\n",
              "  </thead>\n",
              "  <tbody>\n",
              "    <tr>\n",
              "      <th>0</th>\n",
              "      <td>1</td>\n",
              "      <td>675</td>\n",
              "      <td>0.875556</td>\n",
              "      <td>0.838298</td>\n",
              "      <td>0.856522</td>\n",
              "      <td>0.057416</td>\n",
              "      <td>1.718310</td>\n",
              "      <td>7.887324</td>\n",
              "      <td>2.808438</td>\n",
              "      <td>0.801938</td>\n",
              "    </tr>\n",
              "    <tr>\n",
              "      <th>1</th>\n",
              "      <td>2</td>\n",
              "      <td>349</td>\n",
              "      <td>0.727794</td>\n",
              "      <td>0.916968</td>\n",
              "      <td>0.811502</td>\n",
              "      <td>0.066176</td>\n",
              "      <td>3.500000</td>\n",
              "      <td>35.642857</td>\n",
              "      <td>5.970164</td>\n",
              "      <td>0.693974</td>\n",
              "    </tr>\n",
              "    <tr>\n",
              "      <th>2</th>\n",
              "      <td>3</td>\n",
              "      <td>477</td>\n",
              "      <td>0.903564</td>\n",
              "      <td>0.848425</td>\n",
              "      <td>0.875127</td>\n",
              "      <td>0.092632</td>\n",
              "      <td>1.028302</td>\n",
              "      <td>3.952830</td>\n",
              "      <td>1.988173</td>\n",
              "      <td>0.859655</td>\n",
              "    </tr>\n",
              "    <tr>\n",
              "      <th>3</th>\n",
              "      <td>4</td>\n",
              "      <td>74</td>\n",
              "      <td>0.445946</td>\n",
              "      <td>0.388235</td>\n",
              "      <td>0.415094</td>\n",
              "      <td>0.057143</td>\n",
              "      <td>2.243243</td>\n",
              "      <td>9.810811</td>\n",
              "      <td>3.132221</td>\n",
              "      <td>0.272273</td>\n",
              "    </tr>\n",
              "    <tr>\n",
              "      <th>4</th>\n",
              "      <td>5</td>\n",
              "      <td>36</td>\n",
              "      <td>0.694444</td>\n",
              "      <td>0.657895</td>\n",
              "      <td>0.675676</td>\n",
              "      <td>0.193548</td>\n",
              "      <td>1.230769</td>\n",
              "      <td>2.153846</td>\n",
              "      <td>1.467599</td>\n",
              "      <td>0.595822</td>\n",
              "    </tr>\n",
              "    <tr>\n",
              "      <th>5</th>\n",
              "      <td>6</td>\n",
              "      <td>688</td>\n",
              "      <td>0.728198</td>\n",
              "      <td>0.675202</td>\n",
              "      <td>0.700699</td>\n",
              "      <td>0.001992</td>\n",
              "      <td>2.601942</td>\n",
              "      <td>19.669903</td>\n",
              "      <td>4.435076</td>\n",
              "      <td>0.655523</td>\n",
              "    </tr>\n",
              "    <tr>\n",
              "      <th>6</th>\n",
              "      <td>binary</td>\n",
              "      <td>2299</td>\n",
              "      <td>0.844715</td>\n",
              "      <td>0.824628</td>\n",
              "      <td>0.834551</td>\n",
              "      <td>0.000000</td>\n",
              "      <td>1.906977</td>\n",
              "      <td>13.542636</td>\n",
              "      <td>3.680032</td>\n",
              "      <td>0.722731</td>\n",
              "    </tr>\n",
              "  </tbody>\n",
              "</table>\n",
              "</div>\n",
              "    <div class=\"colab-df-buttons\">\n",
              "\n",
              "  <div class=\"colab-df-container\">\n",
              "    <button class=\"colab-df-convert\" onclick=\"convertToInteractive('df-783a0e05-07bf-4212-ab58-d8c2ad24a324')\"\n",
              "            title=\"Convert this dataframe to an interactive table.\"\n",
              "            style=\"display:none;\">\n",
              "\n",
              "  <svg xmlns=\"http://www.w3.org/2000/svg\" height=\"24px\" viewBox=\"0 -960 960 960\">\n",
              "    <path d=\"M120-120v-720h720v720H120Zm60-500h600v-160H180v160Zm220 220h160v-160H400v160Zm0 220h160v-160H400v160ZM180-400h160v-160H180v160Zm440 0h160v-160H620v160ZM180-180h160v-160H180v160Zm440 0h160v-160H620v160Z\"/>\n",
              "  </svg>\n",
              "    </button>\n",
              "\n",
              "  <style>\n",
              "    .colab-df-container {\n",
              "      display:flex;\n",
              "      gap: 12px;\n",
              "    }\n",
              "\n",
              "    .colab-df-convert {\n",
              "      background-color: #E8F0FE;\n",
              "      border: none;\n",
              "      border-radius: 50%;\n",
              "      cursor: pointer;\n",
              "      display: none;\n",
              "      fill: #1967D2;\n",
              "      height: 32px;\n",
              "      padding: 0 0 0 0;\n",
              "      width: 32px;\n",
              "    }\n",
              "\n",
              "    .colab-df-convert:hover {\n",
              "      background-color: #E2EBFA;\n",
              "      box-shadow: 0px 1px 2px rgba(60, 64, 67, 0.3), 0px 1px 3px 1px rgba(60, 64, 67, 0.15);\n",
              "      fill: #174EA6;\n",
              "    }\n",
              "\n",
              "    .colab-df-buttons div {\n",
              "      margin-bottom: 4px;\n",
              "    }\n",
              "\n",
              "    [theme=dark] .colab-df-convert {\n",
              "      background-color: #3B4455;\n",
              "      fill: #D2E3FC;\n",
              "    }\n",
              "\n",
              "    [theme=dark] .colab-df-convert:hover {\n",
              "      background-color: #434B5C;\n",
              "      box-shadow: 0px 1px 3px 1px rgba(0, 0, 0, 0.15);\n",
              "      filter: drop-shadow(0px 1px 2px rgba(0, 0, 0, 0.3));\n",
              "      fill: #FFFFFF;\n",
              "    }\n",
              "  </style>\n",
              "\n",
              "    <script>\n",
              "      const buttonEl =\n",
              "        document.querySelector('#df-783a0e05-07bf-4212-ab58-d8c2ad24a324 button.colab-df-convert');\n",
              "      buttonEl.style.display =\n",
              "        google.colab.kernel.accessAllowed ? 'block' : 'none';\n",
              "\n",
              "      async function convertToInteractive(key) {\n",
              "        const element = document.querySelector('#df-783a0e05-07bf-4212-ab58-d8c2ad24a324');\n",
              "        const dataTable =\n",
              "          await google.colab.kernel.invokeFunction('convertToInteractive',\n",
              "                                                    [key], {});\n",
              "        if (!dataTable) return;\n",
              "\n",
              "        const docLinkHtml = 'Like what you see? Visit the ' +\n",
              "          '<a target=\"_blank\" href=https://colab.research.google.com/notebooks/data_table.ipynb>data table notebook</a>'\n",
              "          + ' to learn more about interactive tables.';\n",
              "        element.innerHTML = '';\n",
              "        dataTable['output_type'] = 'display_data';\n",
              "        await google.colab.output.renderOutput(dataTable, element);\n",
              "        const docLink = document.createElement('div');\n",
              "        docLink.innerHTML = docLinkHtml;\n",
              "        element.appendChild(docLink);\n",
              "      }\n",
              "    </script>\n",
              "  </div>\n",
              "\n",
              "\n",
              "    <div id=\"df-ed19ae24-7fc9-486c-a6e4-7fc42f9ee4eb\">\n",
              "      <button class=\"colab-df-quickchart\" onclick=\"quickchart('df-ed19ae24-7fc9-486c-a6e4-7fc42f9ee4eb')\"\n",
              "                title=\"Suggest charts\"\n",
              "                style=\"display:none;\">\n",
              "\n",
              "<svg xmlns=\"http://www.w3.org/2000/svg\" height=\"24px\"viewBox=\"0 0 24 24\"\n",
              "     width=\"24px\">\n",
              "    <g>\n",
              "        <path d=\"M19 3H5c-1.1 0-2 .9-2 2v14c0 1.1.9 2 2 2h14c1.1 0 2-.9 2-2V5c0-1.1-.9-2-2-2zM9 17H7v-7h2v7zm4 0h-2V7h2v10zm4 0h-2v-4h2v4z\"/>\n",
              "    </g>\n",
              "</svg>\n",
              "      </button>\n",
              "\n",
              "<style>\n",
              "  .colab-df-quickchart {\n",
              "      --bg-color: #E8F0FE;\n",
              "      --fill-color: #1967D2;\n",
              "      --hover-bg-color: #E2EBFA;\n",
              "      --hover-fill-color: #174EA6;\n",
              "      --disabled-fill-color: #AAA;\n",
              "      --disabled-bg-color: #DDD;\n",
              "  }\n",
              "\n",
              "  [theme=dark] .colab-df-quickchart {\n",
              "      --bg-color: #3B4455;\n",
              "      --fill-color: #D2E3FC;\n",
              "      --hover-bg-color: #434B5C;\n",
              "      --hover-fill-color: #FFFFFF;\n",
              "      --disabled-bg-color: #3B4455;\n",
              "      --disabled-fill-color: #666;\n",
              "  }\n",
              "\n",
              "  .colab-df-quickchart {\n",
              "    background-color: var(--bg-color);\n",
              "    border: none;\n",
              "    border-radius: 50%;\n",
              "    cursor: pointer;\n",
              "    display: none;\n",
              "    fill: var(--fill-color);\n",
              "    height: 32px;\n",
              "    padding: 0;\n",
              "    width: 32px;\n",
              "  }\n",
              "\n",
              "  .colab-df-quickchart:hover {\n",
              "    background-color: var(--hover-bg-color);\n",
              "    box-shadow: 0 1px 2px rgba(60, 64, 67, 0.3), 0 1px 3px 1px rgba(60, 64, 67, 0.15);\n",
              "    fill: var(--button-hover-fill-color);\n",
              "  }\n",
              "\n",
              "  .colab-df-quickchart-complete:disabled,\n",
              "  .colab-df-quickchart-complete:disabled:hover {\n",
              "    background-color: var(--disabled-bg-color);\n",
              "    fill: var(--disabled-fill-color);\n",
              "    box-shadow: none;\n",
              "  }\n",
              "\n",
              "  .colab-df-spinner {\n",
              "    border: 2px solid var(--fill-color);\n",
              "    border-color: transparent;\n",
              "    border-bottom-color: var(--fill-color);\n",
              "    animation:\n",
              "      spin 1s steps(1) infinite;\n",
              "  }\n",
              "\n",
              "  @keyframes spin {\n",
              "    0% {\n",
              "      border-color: transparent;\n",
              "      border-bottom-color: var(--fill-color);\n",
              "      border-left-color: var(--fill-color);\n",
              "    }\n",
              "    20% {\n",
              "      border-color: transparent;\n",
              "      border-left-color: var(--fill-color);\n",
              "      border-top-color: var(--fill-color);\n",
              "    }\n",
              "    30% {\n",
              "      border-color: transparent;\n",
              "      border-left-color: var(--fill-color);\n",
              "      border-top-color: var(--fill-color);\n",
              "      border-right-color: var(--fill-color);\n",
              "    }\n",
              "    40% {\n",
              "      border-color: transparent;\n",
              "      border-right-color: var(--fill-color);\n",
              "      border-top-color: var(--fill-color);\n",
              "    }\n",
              "    60% {\n",
              "      border-color: transparent;\n",
              "      border-right-color: var(--fill-color);\n",
              "    }\n",
              "    80% {\n",
              "      border-color: transparent;\n",
              "      border-right-color: var(--fill-color);\n",
              "      border-bottom-color: var(--fill-color);\n",
              "    }\n",
              "    90% {\n",
              "      border-color: transparent;\n",
              "      border-bottom-color: var(--fill-color);\n",
              "    }\n",
              "  }\n",
              "</style>\n",
              "\n",
              "      <script>\n",
              "        async function quickchart(key) {\n",
              "          const quickchartButtonEl =\n",
              "            document.querySelector('#' + key + ' button');\n",
              "          quickchartButtonEl.disabled = true;  // To prevent multiple clicks.\n",
              "          quickchartButtonEl.classList.add('colab-df-spinner');\n",
              "          try {\n",
              "            const charts = await google.colab.kernel.invokeFunction(\n",
              "                'suggestCharts', [key], {});\n",
              "          } catch (error) {\n",
              "            console.error('Error during call to suggestCharts:', error);\n",
              "          }\n",
              "          quickchartButtonEl.classList.remove('colab-df-spinner');\n",
              "          quickchartButtonEl.classList.add('colab-df-quickchart-complete');\n",
              "        }\n",
              "        (() => {\n",
              "          let quickchartButtonEl =\n",
              "            document.querySelector('#df-ed19ae24-7fc9-486c-a6e4-7fc42f9ee4eb button');\n",
              "          quickchartButtonEl.style.display =\n",
              "            google.colab.kernel.accessAllowed ? 'block' : 'none';\n",
              "        })();\n",
              "      </script>\n",
              "    </div>\n",
              "\n",
              "  <div id=\"id_e070aa1f-f736-4d11-9f98-2cb18e386118\">\n",
              "    <style>\n",
              "      .colab-df-generate {\n",
              "        background-color: #E8F0FE;\n",
              "        border: none;\n",
              "        border-radius: 50%;\n",
              "        cursor: pointer;\n",
              "        display: none;\n",
              "        fill: #1967D2;\n",
              "        height: 32px;\n",
              "        padding: 0 0 0 0;\n",
              "        width: 32px;\n",
              "      }\n",
              "\n",
              "      .colab-df-generate:hover {\n",
              "        background-color: #E2EBFA;\n",
              "        box-shadow: 0px 1px 2px rgba(60, 64, 67, 0.3), 0px 1px 3px 1px rgba(60, 64, 67, 0.15);\n",
              "        fill: #174EA6;\n",
              "      }\n",
              "\n",
              "      [theme=dark] .colab-df-generate {\n",
              "        background-color: #3B4455;\n",
              "        fill: #D2E3FC;\n",
              "      }\n",
              "\n",
              "      [theme=dark] .colab-df-generate:hover {\n",
              "        background-color: #434B5C;\n",
              "        box-shadow: 0px 1px 3px 1px rgba(0, 0, 0, 0.15);\n",
              "        filter: drop-shadow(0px 1px 2px rgba(0, 0, 0, 0.3));\n",
              "        fill: #FFFFFF;\n",
              "      }\n",
              "    </style>\n",
              "    <button class=\"colab-df-generate\" onclick=\"generateWithVariable('detections')\"\n",
              "            title=\"Generate code using this dataframe.\"\n",
              "            style=\"display:none;\">\n",
              "\n",
              "  <svg xmlns=\"http://www.w3.org/2000/svg\" height=\"24px\"viewBox=\"0 0 24 24\"\n",
              "       width=\"24px\">\n",
              "    <path d=\"M7,19H8.4L18.45,9,17,7.55,7,17.6ZM5,21V16.75L18.45,3.32a2,2,0,0,1,2.83,0l1.4,1.43a1.91,1.91,0,0,1,.58,1.4,1.91,1.91,0,0,1-.58,1.4L9.25,21ZM18.45,9,17,7.55Zm-12,3A5.31,5.31,0,0,0,4.9,8.1,5.31,5.31,0,0,0,1,6.5,5.31,5.31,0,0,0,4.9,4.9,5.31,5.31,0,0,0,6.5,1,5.31,5.31,0,0,0,8.1,4.9,5.31,5.31,0,0,0,12,6.5,5.46,5.46,0,0,0,6.5,12Z\"/>\n",
              "  </svg>\n",
              "    </button>\n",
              "    <script>\n",
              "      (() => {\n",
              "      const buttonEl =\n",
              "        document.querySelector('#id_e070aa1f-f736-4d11-9f98-2cb18e386118 button.colab-df-generate');\n",
              "      buttonEl.style.display =\n",
              "        google.colab.kernel.accessAllowed ? 'block' : 'none';\n",
              "\n",
              "      buttonEl.onclick = () => {\n",
              "        google.colab.notebook.generateWithVariable('detections');\n",
              "      }\n",
              "      })();\n",
              "    </script>\n",
              "  </div>\n",
              "\n",
              "    </div>\n",
              "  </div>\n"
            ],
            "application/vnd.google.colaboratory.intrinsic+json": {
              "type": "dataframe",
              "variable_name": "detections",
              "summary": "{\n  \"name\": \"detections\",\n  \"rows\": 7,\n  \"fields\": [\n    {\n      \"column\": \"class\",\n      \"properties\": {\n        \"dtype\": \"string\",\n        \"num_unique_values\": 7,\n        \"samples\": [\n          \"1\",\n          \"2\",\n          \"6\"\n        ],\n        \"semantic_type\": \"\",\n        \"description\": \"\"\n      }\n    },\n    {\n      \"column\": \"n\",\n      \"properties\": {\n        \"dtype\": \"number\",\n        \"std\": 769,\n        \"min\": 36,\n        \"max\": 2299,\n        \"num_unique_values\": 7,\n        \"samples\": [\n          675,\n          349,\n          688\n        ],\n        \"semantic_type\": \"\",\n        \"description\": \"\"\n      }\n    },\n    {\n      \"column\": \"recall\",\n      \"properties\": {\n        \"dtype\": \"number\",\n        \"std\": 0.15529222760654082,\n        \"min\": 0.44594594594594594,\n        \"max\": 0.9035639412997903,\n        \"num_unique_values\": 7,\n        \"samples\": [\n          0.8755555555555555,\n          0.7277936962750716,\n          0.7281976744186046\n        ],\n        \"semantic_type\": \"\",\n        \"description\": \"\"\n      }\n    },\n    {\n      \"column\": \"precision\",\n      \"properties\": {\n        \"dtype\": \"number\",\n        \"std\": 0.18002075506983745,\n        \"min\": 0.38823529411764707,\n        \"max\": 0.9169675090252708,\n        \"num_unique_values\": 7,\n        \"samples\": [\n          0.8382978723404255,\n          0.9169675090252708,\n          0.6752021563342318\n        ],\n        \"semantic_type\": \"\",\n        \"description\": \"\"\n      }\n    },\n    {\n      \"column\": \"f1_score\",\n      \"properties\": {\n        \"dtype\": \"number\",\n        \"std\": 0.16182194389049553,\n        \"min\": 0.4150943396226415,\n        \"max\": 0.8751269035532995,\n        \"num_unique_values\": 7,\n        \"samples\": [\n          0.8565217391304347,\n          0.8115015974440895,\n          0.7006993006993006\n        ],\n        \"semantic_type\": \"\",\n        \"description\": \"\"\n      }\n    },\n    {\n      \"column\": \"confusion\",\n      \"properties\": {\n        \"dtype\": \"number\",\n        \"std\": 0.0652893511001759,\n        \"min\": 0.0,\n        \"max\": 0.19354838709677424,\n        \"num_unique_values\": 7,\n        \"samples\": [\n          0.0574162679425837,\n          0.06617647058823528,\n          0.0019920318725099584\n        ],\n        \"semantic_type\": \"\",\n        \"description\": \"\"\n      }\n    },\n    {\n      \"column\": \"mae\",\n      \"properties\": {\n        \"dtype\": \"number\",\n        \"std\": 0.8453687441595059,\n        \"min\": 1.028301886792453,\n        \"max\": 3.5,\n        \"num_unique_values\": 7,\n        \"samples\": [\n          1.7183098591549295,\n          3.5,\n          2.6019417475728157\n        ],\n        \"semantic_type\": \"\",\n        \"description\": \"\"\n      }\n    },\n    {\n      \"column\": \"mse\",\n      \"properties\": {\n        \"dtype\": \"number\",\n        \"std\": 11.495564374053922,\n        \"min\": 2.1538461538461537,\n        \"max\": 35.642857142857146,\n        \"num_unique_values\": 7,\n        \"samples\": [\n          7.887323943661972,\n          35.642857142857146,\n          19.66990291262136\n        ],\n        \"semantic_type\": \"\",\n        \"description\": \"\"\n      }\n    },\n    {\n      \"column\": \"rmse\",\n      \"properties\": {\n        \"dtype\": \"number\",\n        \"std\": 1.5215207626210172,\n        \"min\": 1.4675987714106855,\n        \"max\": 5.970163912561961,\n        \"num_unique_values\": 7,\n        \"samples\": [\n          2.8084379899976377,\n          5.970163912561961,\n          4.435076426919987\n        ],\n        \"semantic_type\": \"\",\n        \"description\": \"\"\n      }\n    },\n    {\n      \"column\": \"ap\",\n      \"properties\": {\n        \"dtype\": \"number\",\n        \"std\": 0.19127728426809995,\n        \"min\": 0.2722731765638235,\n        \"max\": 0.8596545808726058,\n        \"num_unique_values\": 7,\n        \"samples\": [\n          0.8019378479960871,\n          0.693974031981607,\n          0.655523301684279\n        ],\n        \"semantic_type\": \"\",\n        \"description\": \"\"\n      }\n    }\n  ]\n}"
            }
          },
          "metadata": {},
          "execution_count": 26
        }
      ],
      "source": [
        "# Get the detections\n",
        "detections = test_evaluator.results\n",
        "detections"
      ]
    },
    {
      "cell_type": "code",
      "source": [],
      "metadata": {
        "id": "SIQV-sCN7YP_"
      },
      "execution_count": null,
      "outputs": []
    }
  ],
  "metadata": {
    "accelerator": "GPU",
    "colab": {
      "provenance": [],
      "machine_shape": "hm",
      "gpuType": "A100"
    },
    "kernelspec": {
      "display_name": "Python 3",
      "name": "python3"
    },
    "language_info": {
      "name": "python"
    }
  },
  "nbformat": 4,
  "nbformat_minor": 0
}